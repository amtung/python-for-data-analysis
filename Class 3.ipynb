{
 "cells": [
  {
   "cell_type": "code",
   "execution_count": null,
   "metadata": {
    "collapsed": true
   },
   "outputs": [],
   "source": [
    "# Python For Data Analysis\n",
    "## Class 3\n",
    "\n",
    "The objectives of this class are for y'all to have:\n",
    "\n",
    "1. Done a significance test for the difference between two groups (like an A/B test)\n",
    "2. Learned a little bit about P-Values\n",
    "3. Generated a correlation plot\n",
    "4. Generated a scatter plot and identified outliers\n",
    "5. Done some exploratory data analysis on your own"
   ]
  }
 ],
 "metadata": {
  "kernelspec": {
   "display_name": "Python 3",
   "language": "python",
   "name": "python3"
  },
  "language_info": {
   "codemirror_mode": {
    "name": "ipython",
    "version": 3
   },
   "file_extension": ".py",
   "mimetype": "text/x-python",
   "name": "python",
   "nbconvert_exporter": "python",
   "pygments_lexer": "ipython3",
   "version": "3.5.2"
  }
 },
 "nbformat": 4,
 "nbformat_minor": 2
}
