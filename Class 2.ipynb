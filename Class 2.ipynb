{
 "cells": [
  {
   "cell_type": "markdown",
   "metadata": {},
   "source": [
    "# Python For Data Analysis\n",
    "## Class 2\n",
    "\n",
    "The objectives of this class are for y'all to have:\n",
    "\n",
    "1. Gained familiarity with `pandas` API\n",
    "2. Started exploring our 311 data set\n",
    "3. Learned the split / apply / combine data munging paradigm\n",
    "4. Learned some more visualization and interactive data analysis tricks"
   ]
  },
  {
   "cell_type": "code",
   "execution_count": 4,
   "metadata": {
    "collapsed": true
   },
   "outputs": [],
   "source": [
    "import pandas as pd\n",
    "import matplotlib\n",
    "%matplotlib inline"
   ]
  },
  {
   "cell_type": "code",
   "execution_count": 5,
   "metadata": {},
   "outputs": [],
   "source": [
    "# Load the data\n",
    "complaints = pd.read_csv('../pandas-cookbook/data/311-service-requests.csv', low_memory=False)\n",
    "\n",
    "# Note: It's nice to do this in its own cell so we don't ever have to-rerun this costly line"
   ]
  },
  {
   "cell_type": "code",
   "execution_count": null,
   "metadata": {
    "collapsed": true
   },
   "outputs": [],
   "source": [
    "# Let's clean up our data by doing a few things:\n",
    "# 1) let's limit to a few columns we know are going to be interesting\n",
    "# 2) let's clean the column names so we don't have to deal with spaces or capital letters"
   ]
  },
  {
   "cell_type": "code",
   "execution_count": 15,
   "metadata": {},
   "outputs": [],
   "source": [
    "complaints.columns\n",
    "useful_cols = ['Created Date', 'Closed Date', 'Agency Name', 'Complaint Type', 'Borough', 'Status']\n",
    "cleaned = complaints[useful_cols]"
   ]
  },
  {
   "cell_type": "code",
   "execution_count": 16,
   "metadata": {},
   "outputs": [
    {
     "data": {
      "text/html": [
       "<div>\n",
       "<table border=\"1\" class=\"dataframe\">\n",
       "  <thead>\n",
       "    <tr style=\"text-align: right;\">\n",
       "      <th></th>\n",
       "      <th>Created Date</th>\n",
       "      <th>Closed Date</th>\n",
       "      <th>Agency Name</th>\n",
       "      <th>Complaint Type</th>\n",
       "      <th>Borough</th>\n",
       "      <th>Status</th>\n",
       "    </tr>\n",
       "  </thead>\n",
       "  <tbody>\n",
       "    <tr>\n",
       "      <th>0</th>\n",
       "      <td>10/31/2013 02:08:41 AM</td>\n",
       "      <td>NaN</td>\n",
       "      <td>New York City Police Department</td>\n",
       "      <td>Noise - Street/Sidewalk</td>\n",
       "      <td>QUEENS</td>\n",
       "      <td>Assigned</td>\n",
       "    </tr>\n",
       "    <tr>\n",
       "      <th>1</th>\n",
       "      <td>10/31/2013 02:01:04 AM</td>\n",
       "      <td>NaN</td>\n",
       "      <td>New York City Police Department</td>\n",
       "      <td>Illegal Parking</td>\n",
       "      <td>QUEENS</td>\n",
       "      <td>Open</td>\n",
       "    </tr>\n",
       "    <tr>\n",
       "      <th>2</th>\n",
       "      <td>10/31/2013 02:00:24 AM</td>\n",
       "      <td>10/31/2013 02:40:32 AM</td>\n",
       "      <td>New York City Police Department</td>\n",
       "      <td>Noise - Commercial</td>\n",
       "      <td>MANHATTAN</td>\n",
       "      <td>Closed</td>\n",
       "    </tr>\n",
       "    <tr>\n",
       "      <th>3</th>\n",
       "      <td>10/31/2013 01:56:23 AM</td>\n",
       "      <td>10/31/2013 02:21:48 AM</td>\n",
       "      <td>New York City Police Department</td>\n",
       "      <td>Noise - Vehicle</td>\n",
       "      <td>MANHATTAN</td>\n",
       "      <td>Closed</td>\n",
       "    </tr>\n",
       "    <tr>\n",
       "      <th>4</th>\n",
       "      <td>10/31/2013 01:53:44 AM</td>\n",
       "      <td>NaN</td>\n",
       "      <td>Department of Health and Mental Hygiene</td>\n",
       "      <td>Rodent</td>\n",
       "      <td>MANHATTAN</td>\n",
       "      <td>Pending</td>\n",
       "    </tr>\n",
       "  </tbody>\n",
       "</table>\n",
       "</div>"
      ],
      "text/plain": [
       "             Created Date             Closed Date  \\\n",
       "0  10/31/2013 02:08:41 AM                     NaN   \n",
       "1  10/31/2013 02:01:04 AM                     NaN   \n",
       "2  10/31/2013 02:00:24 AM  10/31/2013 02:40:32 AM   \n",
       "3  10/31/2013 01:56:23 AM  10/31/2013 02:21:48 AM   \n",
       "4  10/31/2013 01:53:44 AM                     NaN   \n",
       "\n",
       "                               Agency Name           Complaint Type  \\\n",
       "0          New York City Police Department  Noise - Street/Sidewalk   \n",
       "1          New York City Police Department          Illegal Parking   \n",
       "2          New York City Police Department       Noise - Commercial   \n",
       "3          New York City Police Department          Noise - Vehicle   \n",
       "4  Department of Health and Mental Hygiene                   Rodent   \n",
       "\n",
       "     Borough    Status  \n",
       "0     QUEENS  Assigned  \n",
       "1     QUEENS      Open  \n",
       "2  MANHATTAN    Closed  \n",
       "3  MANHATTAN    Closed  \n",
       "4  MANHATTAN   Pending  "
      ]
     },
     "execution_count": 16,
     "metadata": {},
     "output_type": "execute_result"
    }
   ],
   "source": [
    "cleaned.head()"
   ]
  },
  {
   "cell_type": "markdown",
   "metadata": {},
   "source": [
    "Exercise:\n",
    "* programatically lower-cases the column names and change the spaces to under-scores\n",
    "  * Try not to rely on the current ordering of the columns to do this"
   ]
  },
  {
   "cell_type": "code",
   "execution_count": 66,
   "metadata": {},
   "outputs": [],
   "source": [
    "# One solution\n",
    "# cleaned.rename(columns=lambda x: x.lower().replace(' ','_'), inplace=True)"
   ]
  },
  {
   "cell_type": "code",
   "execution_count": 18,
   "metadata": {},
   "outputs": [
    {
     "data": {
      "text/html": [
       "<div>\n",
       "<table border=\"1\" class=\"dataframe\">\n",
       "  <thead>\n",
       "    <tr style=\"text-align: right;\">\n",
       "      <th></th>\n",
       "      <th>created_date</th>\n",
       "      <th>closed_date</th>\n",
       "      <th>agency_name</th>\n",
       "      <th>complaint_type</th>\n",
       "      <th>borough</th>\n",
       "      <th>status</th>\n",
       "    </tr>\n",
       "  </thead>\n",
       "  <tbody>\n",
       "    <tr>\n",
       "      <th>0</th>\n",
       "      <td>10/31/2013 02:08:41 AM</td>\n",
       "      <td>NaN</td>\n",
       "      <td>New York City Police Department</td>\n",
       "      <td>Noise - Street/Sidewalk</td>\n",
       "      <td>QUEENS</td>\n",
       "      <td>Assigned</td>\n",
       "    </tr>\n",
       "    <tr>\n",
       "      <th>1</th>\n",
       "      <td>10/31/2013 02:01:04 AM</td>\n",
       "      <td>NaN</td>\n",
       "      <td>New York City Police Department</td>\n",
       "      <td>Illegal Parking</td>\n",
       "      <td>QUEENS</td>\n",
       "      <td>Open</td>\n",
       "    </tr>\n",
       "    <tr>\n",
       "      <th>2</th>\n",
       "      <td>10/31/2013 02:00:24 AM</td>\n",
       "      <td>10/31/2013 02:40:32 AM</td>\n",
       "      <td>New York City Police Department</td>\n",
       "      <td>Noise - Commercial</td>\n",
       "      <td>MANHATTAN</td>\n",
       "      <td>Closed</td>\n",
       "    </tr>\n",
       "    <tr>\n",
       "      <th>3</th>\n",
       "      <td>10/31/2013 01:56:23 AM</td>\n",
       "      <td>10/31/2013 02:21:48 AM</td>\n",
       "      <td>New York City Police Department</td>\n",
       "      <td>Noise - Vehicle</td>\n",
       "      <td>MANHATTAN</td>\n",
       "      <td>Closed</td>\n",
       "    </tr>\n",
       "    <tr>\n",
       "      <th>4</th>\n",
       "      <td>10/31/2013 01:53:44 AM</td>\n",
       "      <td>NaN</td>\n",
       "      <td>Department of Health and Mental Hygiene</td>\n",
       "      <td>Rodent</td>\n",
       "      <td>MANHATTAN</td>\n",
       "      <td>Pending</td>\n",
       "    </tr>\n",
       "  </tbody>\n",
       "</table>\n",
       "</div>"
      ],
      "text/plain": [
       "             created_date             closed_date  \\\n",
       "0  10/31/2013 02:08:41 AM                     NaN   \n",
       "1  10/31/2013 02:01:04 AM                     NaN   \n",
       "2  10/31/2013 02:00:24 AM  10/31/2013 02:40:32 AM   \n",
       "3  10/31/2013 01:56:23 AM  10/31/2013 02:21:48 AM   \n",
       "4  10/31/2013 01:53:44 AM                     NaN   \n",
       "\n",
       "                               agency_name           complaint_type  \\\n",
       "0          New York City Police Department  Noise - Street/Sidewalk   \n",
       "1          New York City Police Department          Illegal Parking   \n",
       "2          New York City Police Department       Noise - Commercial   \n",
       "3          New York City Police Department          Noise - Vehicle   \n",
       "4  Department of Health and Mental Hygiene                   Rodent   \n",
       "\n",
       "     borough    status  \n",
       "0     QUEENS  Assigned  \n",
       "1     QUEENS      Open  \n",
       "2  MANHATTAN    Closed  \n",
       "3  MANHATTAN    Closed  \n",
       "4  MANHATTAN   Pending  "
      ]
     },
     "execution_count": 18,
     "metadata": {},
     "output_type": "execute_result"
    }
   ],
   "source": [
    "cleaned.head()"
   ]
  },
  {
   "cell_type": "code",
   "execution_count": 22,
   "metadata": {},
   "outputs": [
    {
     "data": {
      "text/plain": [
       "array(['Noise - Street/Sidewalk', 'Illegal Parking', 'Noise - Commercial',\n",
       "       'Noise - Vehicle', 'Rodent', 'Blocked Driveway',\n",
       "       'Noise - House of Worship', 'Street Light Condition',\n",
       "       'Harboring Bees/Wasps', 'Taxi Complaint', 'Homeless Encampment',\n",
       "       'Traffic Signal Condition', 'Food Establishment', 'Noise - Park',\n",
       "       'Broken Muni Meter', 'Benefit Card Replacement',\n",
       "       'Sanitation Condition', 'ELECTRIC', 'PLUMBING', 'HEATING',\n",
       "       'GENERAL CONSTRUCTION', 'Street Condition', 'Consumer Complaint',\n",
       "       'Derelict Vehicles', 'Noise', 'Drinking', 'Indoor Air Quality',\n",
       "       'Panhandling', 'Derelict Vehicle', 'Lead', 'Water System',\n",
       "       'Noise - Helicopter', 'Homeless Person Assistance',\n",
       "       'Root/Sewer/Sidewalk Condition', 'Sidewalk Condition', 'Graffiti',\n",
       "       'DOF Literature Request', 'Animal in a Park',\n",
       "       'Overgrown Tree/Branches', 'Air Quality', 'Dirty Conditions',\n",
       "       'Water Quality', 'Other Enforcement', 'Collection Truck Noise',\n",
       "       'Illegal Tree Damage', 'Litter Basket / Request',\n",
       "       'Violation of Park Rules', 'Maintenance or Facility', 'Sewer',\n",
       "       'Agency Issues', 'Beach/Pool/Sauna Complaint',\n",
       "       'Bike/Roller/Skate Chronic', 'School Maintenance', 'Animal Abuse',\n",
       "       'Water Conservation', 'Damaged Tree', 'Street Sign - Damaged',\n",
       "       'Taxi Compliment', 'Overflowing Litter Baskets', 'Asbestos',\n",
       "       'Indoor Sewage', 'Hazardous Materials', 'Dead Tree', 'Smoking',\n",
       "       'Missed Collection (All Materials)', 'Standing Water',\n",
       "       'Sweeping/Missed-Inadequate',\n",
       "       'DCA / DOH New License Application Request', 'Ferry Inquiry',\n",
       "       'For Hire Vehicle Complaint', 'Traffic', 'Plumbing', 'Building/Use',\n",
       "       'SCRIE', 'Boilers', 'General Construction/Plumbing', 'Construction',\n",
       "       'Special Projects Inspection Team (SPIT)', 'Elevator',\n",
       "       'DOT Literature Request', 'Fire Safety Director - F58',\n",
       "       'Highway Condition', 'Street Sign - Missing',\n",
       "       'Investigations and Discipline (IAD)', 'Non-Residential Heat',\n",
       "       'Electrical', 'DOF Parking - Tax Exemption', 'Special Enforcement',\n",
       "       'Street Sign - Dangling', 'Internal Code',\n",
       "       'Unsanitary Animal Pvt Property', 'Derelict Bicycle',\n",
       "       'Industrial Waste', 'Vacant Lot', 'Food Poisoning',\n",
       "       'Found Property', 'Bridge Condition', 'Bike Rack Condition',\n",
       "       'BEST/Site Safety', 'EAP Inspection - F59', 'Vending',\n",
       "       'Public Assembly', 'Public Payphone Complaint', 'Unleashed Dog',\n",
       "       'Curb Condition', 'Cranes and Derricks', 'DCA Literature Request',\n",
       "       'City Vehicle Placard Complaint',\n",
       "       'Legal Services Provider Complaint', 'Posting Advertisement',\n",
       "       'PAINT - PLASTER', 'NONCONST', 'APPLIANCE', 'CONSTRUCTION',\n",
       "       'Recycling Enforcement', 'Special Natural Area District (SNAD)',\n",
       "       'DPR Internal', 'Opinion for the Mayor', 'Mold', 'Snow',\n",
       "       'Complaint', 'Urinating in Public', 'Senior Center Complaint',\n",
       "       'Animal Facility - No Permit', 'Unsanitary Animal Facility',\n",
       "       'Parking Card', 'Fire Alarm - Reinspection',\n",
       "       'Request for Information', 'Miscellaneous Categories',\n",
       "       'Unsanitary Pigeon Condition', 'Plant', 'Fire Alarm - Replacement',\n",
       "       'DPR Literature Request', 'Invitation', 'Scaffold Safety',\n",
       "       'Transportation Provider Complaint', 'Ferry Complaint',\n",
       "       'STRUCTURAL', 'Bus Stop Shelter Placement', 'Compliment',\n",
       "       'Misc. Comments', 'Disorderly Youth', 'OEM Literature Request',\n",
       "       'Fire Alarm - New System', 'Fire Alarm - Modification',\n",
       "       'Stalled Sites', 'Public Toilet', 'Tattooing',\n",
       "       'Illegal Animal Sold', 'Illegal Animal Kept as Pet',\n",
       "       'DFTA Literature Request', 'Adopt-A-Basket',\n",
       "       'DHS Income Savings Requirement', 'Poison Ivy', 'Tunnel Condition',\n",
       "       'Drinking Water', 'Municipal Parking Facility', 'Trans Fat',\n",
       "       'Illegal Fireworks', 'Window Guard', 'Open Flame Permit', 'DWD',\n",
       "       'Highway Sign - Damaged', 'Ferry Permit', 'X-Ray Machine/Equipment'], dtype=object)"
      ]
     },
     "execution_count": 22,
     "metadata": {},
     "output_type": "execute_result"
    }
   ],
   "source": [
    "cleaned.complaint_type.unique()"
   ]
  },
  {
   "cell_type": "code",
   "execution_count": 36,
   "metadata": {},
   "outputs": [
    {
     "data": {
      "text/plain": [
       "complaint_type\n",
       "HEATING                   14200\n",
       "GENERAL CONSTRUCTION       7471\n",
       "Street Light Condition     7117\n",
       "DOF Literature Request     5797\n",
       "PLUMBING                   5373\n",
       "dtype: int64"
      ]
     },
     "execution_count": 36,
     "metadata": {},
     "output_type": "execute_result"
    }
   ],
   "source": [
    "# Let's figure out what the top complaints are\n",
    "cleaned.groupby('complaint_type').size().sort_values(ascending=False).head()\n"
   ]
  },
  {
   "cell_type": "code",
   "execution_count": 76,
   "metadata": {},
   "outputs": [],
   "source": [
    "cleaned['complaint_type_cln'] = cleaned['complaint_type'].str.lower()\n",
    "# cleaned.is_copy = False "
   ]
  },
  {
   "cell_type": "code",
   "execution_count": 41,
   "metadata": {},
   "outputs": [
    {
     "data": {
      "text/html": [
       "<div>\n",
       "<table border=\"1\" class=\"dataframe\">\n",
       "  <thead>\n",
       "    <tr style=\"text-align: right;\">\n",
       "      <th></th>\n",
       "      <th>created_date</th>\n",
       "      <th>closed_date</th>\n",
       "      <th>agency_name</th>\n",
       "      <th>complaint_type</th>\n",
       "      <th>borough</th>\n",
       "      <th>status</th>\n",
       "      <th>complaint_type_cln</th>\n",
       "    </tr>\n",
       "  </thead>\n",
       "  <tbody>\n",
       "    <tr>\n",
       "      <th>0</th>\n",
       "      <td>10/31/2013 02:08:41 AM</td>\n",
       "      <td>NaN</td>\n",
       "      <td>New York City Police Department</td>\n",
       "      <td>Noise - Street/Sidewalk</td>\n",
       "      <td>QUEENS</td>\n",
       "      <td>Assigned</td>\n",
       "      <td>noise - street/sidewalk</td>\n",
       "    </tr>\n",
       "    <tr>\n",
       "      <th>1</th>\n",
       "      <td>10/31/2013 02:01:04 AM</td>\n",
       "      <td>NaN</td>\n",
       "      <td>New York City Police Department</td>\n",
       "      <td>Illegal Parking</td>\n",
       "      <td>QUEENS</td>\n",
       "      <td>Open</td>\n",
       "      <td>illegal parking</td>\n",
       "    </tr>\n",
       "    <tr>\n",
       "      <th>2</th>\n",
       "      <td>10/31/2013 02:00:24 AM</td>\n",
       "      <td>10/31/2013 02:40:32 AM</td>\n",
       "      <td>New York City Police Department</td>\n",
       "      <td>Noise - Commercial</td>\n",
       "      <td>MANHATTAN</td>\n",
       "      <td>Closed</td>\n",
       "      <td>noise - commercial</td>\n",
       "    </tr>\n",
       "    <tr>\n",
       "      <th>3</th>\n",
       "      <td>10/31/2013 01:56:23 AM</td>\n",
       "      <td>10/31/2013 02:21:48 AM</td>\n",
       "      <td>New York City Police Department</td>\n",
       "      <td>Noise - Vehicle</td>\n",
       "      <td>MANHATTAN</td>\n",
       "      <td>Closed</td>\n",
       "      <td>noise - vehicle</td>\n",
       "    </tr>\n",
       "    <tr>\n",
       "      <th>4</th>\n",
       "      <td>10/31/2013 01:53:44 AM</td>\n",
       "      <td>NaN</td>\n",
       "      <td>Department of Health and Mental Hygiene</td>\n",
       "      <td>Rodent</td>\n",
       "      <td>MANHATTAN</td>\n",
       "      <td>Pending</td>\n",
       "      <td>rodent</td>\n",
       "    </tr>\n",
       "  </tbody>\n",
       "</table>\n",
       "</div>"
      ],
      "text/plain": [
       "             created_date             closed_date  \\\n",
       "0  10/31/2013 02:08:41 AM                     NaN   \n",
       "1  10/31/2013 02:01:04 AM                     NaN   \n",
       "2  10/31/2013 02:00:24 AM  10/31/2013 02:40:32 AM   \n",
       "3  10/31/2013 01:56:23 AM  10/31/2013 02:21:48 AM   \n",
       "4  10/31/2013 01:53:44 AM                     NaN   \n",
       "\n",
       "                               agency_name           complaint_type  \\\n",
       "0          New York City Police Department  Noise - Street/Sidewalk   \n",
       "1          New York City Police Department          Illegal Parking   \n",
       "2          New York City Police Department       Noise - Commercial   \n",
       "3          New York City Police Department          Noise - Vehicle   \n",
       "4  Department of Health and Mental Hygiene                   Rodent   \n",
       "\n",
       "     borough    status       complaint_type_cln  \n",
       "0     QUEENS  Assigned  noise - street/sidewalk  \n",
       "1     QUEENS      Open          illegal parking  \n",
       "2  MANHATTAN    Closed       noise - commercial  \n",
       "3  MANHATTAN    Closed          noise - vehicle  \n",
       "4  MANHATTAN   Pending                   rodent  "
      ]
     },
     "execution_count": 41,
     "metadata": {},
     "output_type": "execute_result"
    }
   ],
   "source": [
    "cleaned.head()"
   ]
  },
  {
   "cell_type": "code",
   "execution_count": 42,
   "metadata": {},
   "outputs": [
    {
     "data": {
      "text/plain": [
       "complaint_type_cln\n",
       "heating                   14200\n",
       "general construction       7471\n",
       "street light condition     7117\n",
       "dof literature request     5797\n",
       "plumbing                   5439\n",
       "dtype: int64"
      ]
     },
     "execution_count": 42,
     "metadata": {},
     "output_type": "execute_result"
    }
   ],
   "source": [
    "cleaned.groupby('complaint_type_cln').size().sort_values(ascending=False).head()"
   ]
  },
  {
   "cell_type": "code",
   "execution_count": 59,
   "metadata": {},
   "outputs": [
    {
     "data": {
      "text/plain": [
       "0         False\n",
       "1         False\n",
       "2         False\n",
       "3          True\n",
       "4          True\n",
       "5         False\n",
       "6         False\n",
       "7         False\n",
       "8         False\n",
       "9         False\n",
       "10        False\n",
       "11        False\n",
       "12        False\n",
       "13         True\n",
       "14         True\n",
       "15        False\n",
       "16        False\n",
       "17        False\n",
       "18        False\n",
       "19        False\n",
       "20        False\n",
       "21        False\n",
       "22         True\n",
       "23        False\n",
       "24        False\n",
       "25        False\n",
       "26        False\n",
       "27        False\n",
       "28        False\n",
       "29        False\n",
       "          ...  \n",
       "111039    False\n",
       "111040    False\n",
       "111041    False\n",
       "111042    False\n",
       "111043    False\n",
       "111044    False\n",
       "111045    False\n",
       "111046    False\n",
       "111047    False\n",
       "111048    False\n",
       "111049    False\n",
       "111050    False\n",
       "111051    False\n",
       "111052    False\n",
       "111053    False\n",
       "111054    False\n",
       "111055    False\n",
       "111056    False\n",
       "111057    False\n",
       "111058    False\n",
       "111059    False\n",
       "111060    False\n",
       "111061    False\n",
       "111062    False\n",
       "111063    False\n",
       "111064    False\n",
       "111065    False\n",
       "111066    False\n",
       "111067    False\n",
       "111068    False\n",
       "Name: complaint_type, dtype: bool"
      ]
     },
     "execution_count": 59,
     "metadata": {},
     "output_type": "execute_result"
    }
   ],
   "source": [
    "# which rows have rats and noisy vehicles?\n",
    "cleaned[\"complaint_type\"].isin(['Rodent', 'Noise - Vehicle'])"
   ]
  },
  {
   "cell_type": "code",
   "execution_count": 77,
   "metadata": {},
   "outputs": [],
   "source": [
    "# Replace some values\n",
    "mask = cleaned[\"complaint_type\"].isin(['Rodent', 'Noise - Vehicle'])\n",
    "new_series = cleaned['complaint_type']\n",
    "# new_series = cleaned['complaint_type'].copy()\n",
    "new_series[mask] = 'rats or cars'\n",
    "\n"
   ]
  },
  {
   "cell_type": "code",
   "execution_count": 78,
   "metadata": {},
   "outputs": [
    {
     "data": {
      "text/plain": [
       "0    Noise - Street/Sidewalk\n",
       "1            Illegal Parking\n",
       "2         Noise - Commercial\n",
       "3               rats or cars\n",
       "4               rats or cars\n",
       "Name: complaint_type, dtype: object"
      ]
     },
     "execution_count": 78,
     "metadata": {},
     "output_type": "execute_result"
    }
   ],
   "source": [
    "new_series.head()"
   ]
  },
  {
   "cell_type": "markdown",
   "metadata": {},
   "source": [
    "Exercise:\n",
    "* Write a function that takes a column name, a number n, and a dataframe as an argument, and returns a column with the top n categories and all other categories as \"other\""
   ]
  },
  {
   "cell_type": "markdown",
   "metadata": {},
   "source": [
    "ToDo:\n",
    "* Introduce summary stats with group by\n",
    "  * Reset_index to convert to data frame\n",
    "  * Introduce common aggregates\n",
    "  * Exercise: find the most common hour for a complaint by borough\n",
    "* Introduce transform\n",
    "  * Fill in data with the mean\n",
    "* Introduce lambdas and custom aggregators with GroupBy\n",
    "  * Exercise: Center and scale some metric"
   ]
  }
 ],
 "metadata": {
  "kernelspec": {
   "display_name": "Python 3",
   "language": "python",
   "name": "python3"
  },
  "language_info": {
   "codemirror_mode": {
    "name": "ipython",
    "version": 3
   },
   "file_extension": ".py",
   "mimetype": "text/x-python",
   "name": "python",
   "nbconvert_exporter": "python",
   "pygments_lexer": "ipython3",
   "version": "3.5.2"
  }
 },
 "nbformat": 4,
 "nbformat_minor": 2
}
