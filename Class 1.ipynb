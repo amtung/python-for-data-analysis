{
 "cells": [
  {
   "cell_type": "markdown",
   "metadata": {
    "deletable": true,
    "editable": true
   },
   "source": [
    "# Python For Data Analysis\n",
    "## Class 1\n",
    "\n",
    "The objectives of this class are for y'all to have:\n",
    "\n",
    "1. Installed python3 and created a virtualenvironment to work in\n",
    "2. Gained some familiarity with python's package manager, `pip`\n",
    "3. Learned to use the `ipython` interactive shell\n",
    "4. Learned some of the basics of python functionality and style"
   ]
  },
  {
   "cell_type": "markdown",
   "metadata": {
    "deletable": true,
    "editable": true
   },
   "source": [
    "### Install python and virtualenv\n",
    "\n",
    "Install Homebrew\n",
    "\n",
    "```sh\n",
    "$ /usr/bin/ruby -e \"$(curl -fsSL https://raw.githubusercontent.com/Homebrew/install/master/install)\"\n",
    "```\n",
    "\n",
    "Update homebrew\n",
    "```sh\n",
    "$ brew update\n",
    "$ brew doctor\n",
    "```\n",
    "\n",
    "\n",
    "Install Python3\n",
    "```sh\n",
    "$ brew install python3\n",
    "```\n",
    "\n",
    "Install virtualenv and virtualenv wrapper\n",
    "\n",
    "```sh\n",
    "$ pip3 install virtualenv\n",
    "$ pip3 install virtualenvwrapper\n",
    "$ export VIRTUALENVWRAPPER_PYTHON=/usr/local/bin/python3\n",
    "$ source /usr/local/bin/virtualenvwrapper.sh\n",
    "```\n",
    "\n",
    "Make sure virtualenvwrapper will start correctly for next time you open a new shell\n",
    "\n",
    "```sh\n",
    "$ echo \"export VIRTUALENVWRAPPER_PYTHON=/usr/local/bin/python3\" >> ~/.bash_profile\n",
    "$ echo \"source /usr/local/bin/virtualenvwrapper.sh\" >> ~/.bash_profile\n",
    "```"
   ]
  },
  {
   "cell_type": "markdown",
   "metadata": {
    "deletable": true,
    "editable": true
   },
   "source": [
    "### virtual environments in python\n",
    "\n",
    "`pip` is python's package manager. `pip3` is used for installing packages for `python3`. If we get our virtual environments set up correctly, you won't have to remember when to use `pip3`, `pip` should just work. However, it's good to know that there's some magic happening in the background.\n",
    "\n",
    "Virtual environments allow you to easily keep track of which external libraries (and versions!) are required for a project. This may seem like a pain in the beginning, but will end up saving you a lot of confusing down the line.\n",
    "\n",
    "Let's create a virtual environment for ourselves to work in\n",
    "\n",
    "```sh\n",
    "$ cd ~/workspace\n",
    "$ mkdir python-for-data-analysis\n",
    "$ cd python-for-data-analysis\n",
    "$ mkvirtualenv python-for-data-analysis\n",
    "$ setvirtualenvproject\n",
    "```\n",
    "\n",
    "To deactivate a virtualenvironment, we simply use the `deactivate` command\n",
    "\n",
    "```sh\n",
    "$ deactivate\n",
    "```\n",
    "\n",
    "With our project set up this way, we can easily jump to the directory our project is in when we want to get started\n",
    "\n",
    "```\n",
    "$ cd ~\n",
    "$ workon python-for-data-analysis\n",
    "$ pwd\n",
    "```"
   ]
  },
  {
   "cell_type": "markdown",
   "metadata": {
    "deletable": true,
    "editable": true
   },
   "source": [
    "### IPython\n",
    "\n",
    "We'll use the IPython interactive shell for developing.\n",
    "\n",
    "\n",
    "Once we've activated our virtual environment, we need to install IPython.\n",
    "```sh\n",
    "$ pip install ipython\n",
    "```\n",
    "\n",
    "Once we start ipython, we should see that we're working using python3:\n",
    "\n",
    "```sh\n",
    "$ ipython\n",
    "Python 3.6.0 (default, Dec 24 2016, 08:01:42) \n",
    "```\n",
    "\n",
    "IPython has some nice features for developing which we'll introduce to you over the next few weeks.\n",
    "\n",
    "** Let's Pause Here and Make Sure Everyone Has Their Virtual Environment and IPython Installation Set Up **"
   ]
  },
  {
   "cell_type": "code",
   "execution_count": 12,
   "metadata": {
    "collapsed": false,
    "deletable": true,
    "editable": true
   },
   "outputs": [
    {
     "name": "stdout",
     "output_type": "stream",
     "text": [
      "Hello World!\n",
      "Hello Michael!\n"
     ]
    }
   ],
   "source": [
    "# Try the following code in your IPython repl\n",
    "print(\"Hello World!\")\n",
    "me = \"Michael\"\n",
    "print(\"Hello \" + me + \"!\")"
   ]
  },
  {
   "cell_type": "markdown",
   "metadata": {
    "deletable": true,
    "editable": true
   },
   "source": [
    "### Some Python Basics"
   ]
  },
  {
   "cell_type": "code",
   "execution_count": 15,
   "metadata": {
    "collapsed": false,
    "deletable": true,
    "editable": true,
    "scrolled": false
   },
   "outputs": [
    {
     "name": "stdout",
     "output_type": "stream",
     "text": [
      "3\n",
      "<class 'int'>\n",
      "banana\n",
      "<class 'str'>\n"
     ]
    }
   ],
   "source": [
    "# variable assignment\n",
    "x = 3\n",
    "y = \"banana\"\n",
    "print(x)\n",
    "print(type(x))\n",
    "print(y)\n",
    "print(type(y))"
   ]
  },
  {
   "cell_type": "code",
   "execution_count": 19,
   "metadata": {
    "collapsed": false,
    "deletable": true,
    "editable": true
   },
   "outputs": [
    {
     "name": "stdout",
     "output_type": "stream",
     "text": [
      "[1, 'a', 9]\n",
      "1\n",
      "9\n"
     ]
    }
   ],
   "source": [
    "# Lists\n",
    "z = [1, \"a\", x**2]\n",
    "print(z)\n",
    "\n",
    "# Python is 0-indexed!\n",
    "print(z[0])\n",
    "print(z[2])\n",
    "\n"
   ]
  },
  {
   "cell_type": "code",
   "execution_count": null,
   "metadata": {
    "collapsed": true,
    "deletable": true,
    "editable": true
   },
   "outputs": [],
   "source": [
    "# What happens if we run this?\n",
    "# print(z[3])"
   ]
  },
  {
   "cell_type": "code",
   "execution_count": 23,
   "metadata": {
    "collapsed": false,
    "deletable": true,
    "editable": true
   },
   "outputs": [
    {
     "name": "stdout",
     "output_type": "stream",
     "text": [
      "{'first_name': 'Michael', 'last_name': 'Kaminsky', 'something else': [1, 'a', 9]}\n",
      "Michael\n",
      "Kaminsky\n",
      "[1, 'a', 9]\n"
     ]
    }
   ],
   "source": [
    "# Dictionaries\n",
    "d = {'first_name': 'Michael', 'last_name': 'Kaminsky', 'something else': z}\n",
    "print(d)\n",
    "print(d['first_name'])\n",
    "print(d['last_name'])\n",
    "print(d['something else'])"
   ]
  },
  {
   "cell_type": "code",
   "execution_count": 27,
   "metadata": {
    "collapsed": false,
    "deletable": true,
    "editable": true,
    "scrolled": true
   },
   "outputs": [
    {
     "name": "stdout",
     "output_type": "stream",
     "text": [
      "dict_keys(['first_name', 'last_name', 'something else'])\n"
     ]
    }
   ],
   "source": [
    "print(d.keys())"
   ]
  },
  {
   "cell_type": "code",
   "execution_count": 34,
   "metadata": {
    "collapsed": false,
    "deletable": true,
    "editable": true
   },
   "outputs": [
    {
     "name": "stdout",
     "output_type": "stream",
     "text": [
      "0\n",
      "1\n",
      "2\n",
      "3\n",
      "4\n",
      "5\n",
      "6\n",
      "7\n",
      "8\n",
      "9\n"
     ]
    }
   ],
   "source": [
    "# Loops\n",
    "for i in range(10):\n",
    "    print(i)"
   ]
  },
  {
   "cell_type": "code",
   "execution_count": 35,
   "metadata": {
    "collapsed": false,
    "deletable": true,
    "editable": true
   },
   "outputs": [
    {
     "name": "stdout",
     "output_type": "stream",
     "text": [
      "1\n",
      "a\n",
      "9\n"
     ]
    }
   ],
   "source": [
    "for item in z:\n",
    "    print(item)    "
   ]
  },
  {
   "cell_type": "markdown",
   "metadata": {
    "deletable": true,
    "editable": true
   },
   "source": [
    "#### Exercise\n",
    "1. Create a dictionary with the names of your family members where their first name is the key, the value is their age.\n",
    "2. Write a loop that loops through all entries in the dictionary and prints your family member's first names and ages"
   ]
  },
  {
   "cell_type": "code",
   "execution_count": 36,
   "metadata": {
    "collapsed": false,
    "deletable": true,
    "editable": true
   },
   "outputs": [
    {
     "name": "stdout",
     "output_type": "stream",
     "text": [
      "hello world!\n"
     ]
    }
   ],
   "source": [
    "# Functions\n",
    "\n",
    "def my_func():\n",
    "    print(\"hello world!\") # Note: white space matters!\n",
    "    \n",
    "my_func()"
   ]
  },
  {
   "cell_type": "code",
   "execution_count": 38,
   "metadata": {
    "collapsed": false,
    "deletable": true,
    "editable": true
   },
   "outputs": [
    {
     "name": "stdout",
     "output_type": "stream",
     "text": [
      "Hello Michael\n"
     ]
    }
   ],
   "source": [
    "def my_other_func(name):\n",
    "    print(\"Hello \" + name)\n",
    "    \n",
    "my_other_func(\"Michael\")\n",
    "\n",
    "# What happens if we run this? \n",
    "# my_other_func(\"Michael\")"
   ]
  },
  {
   "cell_type": "code",
   "execution_count": 41,
   "metadata": {
    "collapsed": false,
    "deletable": true,
    "editable": true
   },
   "outputs": [
    {
     "name": "stdout",
     "output_type": "stream",
     "text": [
      "Hello Michael\n",
      "I understand you're 29 years old\n"
     ]
    }
   ],
   "source": [
    "def welcome(name, age=None):\n",
    "    print(\"Hello \" + name)\n",
    "    if age:\n",
    "        print(\"I understand you're \" + str(age) + \" years old\")\n",
    "    \n",
    "welcome(\"Michael\", 29)\n",
    "\n",
    "# What happens if we run this?\n",
    "# my_other_func(\"Michael\")\n"
   ]
  },
  {
   "cell_type": "markdown",
   "metadata": {
    "deletable": true,
    "editable": true
   },
   "source": [
    "#### Exercise\n",
    "1. Create a function that will add entries into your family member dictionary. \n",
    "2. Add the following entries: Kermit age 99, Othello age 14, William age 40"
   ]
  },
  {
   "cell_type": "markdown",
   "metadata": {
    "deletable": true,
    "editable": true
   },
   "source": [
    "### Pandas"
   ]
  },
  {
   "cell_type": "code",
   "execution_count": 42,
   "metadata": {
    "collapsed": false,
    "deletable": true,
    "editable": true
   },
   "outputs": [
    {
     "name": "stdout",
     "output_type": "stream",
     "text": [
      "Requirement already satisfied: pandas in /usr/local/lib/python2.7/site-packages\n",
      "Requirement already satisfied: numpy>=1.7.0 in /usr/local/lib/python2.7/site-packages (from pandas)\n",
      "Requirement already satisfied: python-dateutil in /usr/local/lib/python2.7/site-packages (from pandas)\n",
      "Requirement already satisfied: pytz>=2011k in /usr/local/lib/python2.7/site-packages (from pandas)\n",
      "Requirement already satisfied: six>=1.5 in /usr/local/lib/python2.7/site-packages (from python-dateutil->pandas)\n"
     ]
    }
   ],
   "source": [
    "!pip install pandas # Ipython magic!\n",
    "import pandas as pd # \"import\" is how we load a package in python\n"
   ]
  },
  {
   "cell_type": "code",
   "execution_count": 43,
   "metadata": {
    "collapsed": true,
    "deletable": true,
    "editable": true
   },
   "outputs": [],
   "source": [
    "# The inital set of baby names and bith rates\n",
    "names = ['Bob','Jessica','Mary','John','Mel']\n",
    "births = [968, 155, 77, 578, 973]\n",
    "baby_data = list(zip(names,births))\n",
    "\n",
    "df = pd.DataFrame(data = baby_data, columns=['Names', 'Births'])"
   ]
  },
  {
   "cell_type": "code",
   "execution_count": 44,
   "metadata": {
    "collapsed": false,
    "deletable": true,
    "editable": true
   },
   "outputs": [
    {
     "name": "stdout",
     "output_type": "stream",
     "text": [
      "     Names  Births\n",
      "0      Bob     968\n",
      "1  Jessica     155\n",
      "2     Mary      77\n",
      "3     John     578\n",
      "4      Mel     973\n"
     ]
    }
   ],
   "source": [
    "print(df)"
   ]
  },
  {
   "cell_type": "code",
   "execution_count": 45,
   "metadata": {
    "collapsed": false,
    "deletable": true,
    "editable": true
   },
   "outputs": [
    {
     "name": "stdout",
     "output_type": "stream",
     "text": [
      "Index(['Names', 'Births'], dtype='object')\n"
     ]
    }
   ],
   "source": [
    "print(df.columns)"
   ]
  },
  {
   "cell_type": "code",
   "execution_count": 50,
   "metadata": {
    "collapsed": false,
    "deletable": true,
    "editable": true
   },
   "outputs": [
    {
     "name": "stdout",
     "output_type": "stream",
     "text": [
      "0        Bob\n",
      "1    Jessica\n",
      "2       Mary\n",
      "3       John\n",
      "4        Mel\n",
      "Name: Names, dtype: object\n"
     ]
    }
   ],
   "source": [
    "print(df['Names'])"
   ]
  },
  {
   "cell_type": "code",
   "execution_count": 52,
   "metadata": {
    "collapsed": false,
    "deletable": true,
    "editable": true,
    "scrolled": true
   },
   "outputs": [
    {
     "name": "stdout",
     "output_type": "stream",
     "text": [
      "0    968\n",
      "1    155\n",
      "2     77\n",
      "3    578\n",
      "4    973\n",
      "Name: Births, dtype: int64\n"
     ]
    }
   ],
   "source": [
    "print(df.Births)"
   ]
  },
  {
   "cell_type": "code",
   "execution_count": 58,
   "metadata": {
    "collapsed": false,
    "deletable": true,
    "editable": true
   },
   "outputs": [
    {
     "name": "stdout",
     "output_type": "stream",
     "text": [
      "     Names  Births\n",
      "0      Bob     968\n",
      "1  Jessica     155\n",
      "2     Mary      77\n"
     ]
    }
   ],
   "source": [
    "print(df[0:3])"
   ]
  },
  {
   "cell_type": "code",
   "execution_count": 60,
   "metadata": {
    "collapsed": false,
    "deletable": true,
    "editable": true
   },
   "outputs": [
    {
     "name": "stdout",
     "output_type": "stream",
     "text": [
      "  Names  Births\n",
      "0   Bob     968\n"
     ]
    }
   ],
   "source": [
    "print(df[0:1])"
   ]
  },
  {
   "cell_type": "markdown",
   "metadata": {
    "deletable": true,
    "editable": true
   },
   "source": [
    "#### Exercise\n",
    "Write a loop that will loop over your data frame twice: first printing the names in order, then printing the births in order"
   ]
  }
 ],
 "metadata": {
  "kernelspec": {
   "display_name": "Python 3",
   "language": "python",
   "name": "python3"
  },
  "language_info": {
   "codemirror_mode": {
    "name": "ipython",
    "version": 3
   },
   "file_extension": ".py",
   "mimetype": "text/x-python",
   "name": "python",
   "nbconvert_exporter": "python",
   "pygments_lexer": "ipython3",
   "version": "3.6.0"
  }
 },
 "nbformat": 4,
 "nbformat_minor": 2
}
