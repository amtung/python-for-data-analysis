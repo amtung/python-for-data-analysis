{
 "cells": [
  {
   "cell_type": "markdown",
   "metadata": {
    "deletable": true,
    "editable": true
   },
   "source": [
    "# Python For Data Analysis\n",
    "## Class 1\n",
    "\n",
    "The objectives of this class are for y'all to have:\n",
    "\n",
    "1. Installed python3 and created a virtualenvironment to work in\n",
    "2. Gained some familiarity with python's package manager, `pip`\n",
    "3. Learned to use the `ipython` interactive shell\n",
    "4. Learned some of the basics of python functionality and style"
   ]
  },
  {
   "cell_type": "markdown",
   "metadata": {
    "deletable": true,
    "editable": true
   },
   "source": [
    "### Install python and virtualenv\n",
    "\n",
    "Install Homebrew\n",
    "\n",
    "```sh\n",
    "$ /usr/bin/ruby -e \"$(curl -fsSL https://raw.githubusercontent.com/Homebrew/install/master/install)\"\n",
    "```\n",
    "\n",
    "Update homebrew\n",
    "```sh\n",
    "$ brew update\n",
    "$ brew doctor\n",
    "```\n",
    "\n",
    "\n",
    "Install Python3\n",
    "```sh\n",
    "$ brew install python3\n",
    "```\n",
    "\n",
    "Install virtualenv and virtualenv wrapper\n",
    "\n",
    "```sh\n",
    "$ pip3 install virtualenv\n",
    "$ pip3 install virtualenvwrapper\n",
    "$ export VIRTUALENVWRAPPER_PYTHON=/usr/local/bin/python3\n",
    "$ source /usr/local/bin/virtualenvwrapper.sh\n",
    "```\n",
    "\n",
    "Make sure virtualenvwrapper will start correctly for next time you open a new shell\n",
    "\n",
    "```sh\n",
    "$ echo \"export VIRTUALENVWRAPPER_PYTHON=/usr/local/bin/python3\" >> ~/.bash_profile\n",
    "$ echo \"source /usr/local/bin/virtualenvwrapper.sh\" >> ~/.bash_profile\n",
    "```"
   ]
  },
  {
   "cell_type": "markdown",
   "metadata": {
    "deletable": true,
    "editable": true
   },
   "source": [
    "### virtual environments in python\n",
    "\n",
    "`pip` is python's package manager. `pip3` is used for installing packages for `python3`. If we get our virtual environments set up correctly, you won't have to remember when to use `pip3`, `pip` should just work. However, it's good to know that there's some magic happening in the background.\n",
    "\n",
    "Virtual environments allow you to easily keep track of which external libraries (and versions!) are required for a project. This may seem like a pain in the beginning, but will end up saving you a lot of confusing down the line.\n",
    "\n",
    "Let's create a virtual environment for ourselves to work in\n",
    "\n",
    "```sh\n",
    "$ cd ~/workspace\n",
    "$ mkdir python-for-data-analysis\n",
    "$ cd python-for-data-analysis\n",
    "$ mkvirtualenv python-for-data-analysis\n",
    "$ setvirtualenvproject\n",
    "```\n",
    "\n",
    "To deactivate a virtualenvironment, we simply use the `deactivate` command\n",
    "\n",
    "```sh\n",
    "$ deactivate\n",
    "```\n",
    "\n",
    "With our project set up this way, we can easily jump to the directory our project is in when we want to get started\n",
    "\n",
    "```\n",
    "$ cd ~\n",
    "$ workon python-for-data-analysis\n",
    "$ pwd\n",
    "```"
   ]
  },
  {
   "cell_type": "markdown",
   "metadata": {
    "deletable": true,
    "editable": true
   },
   "source": [
    "### IPython\n",
    "\n",
    "We'll use the IPython interactive shell for developing.\n",
    "\n",
    "\n",
    "Once we've activated our virtual environment, we need to install IPython.\n",
    "```sh\n",
    "$ pip install ipython\n",
    "```\n",
    "\n",
    "Once we start ipython, we should see that we're working using python3:\n",
    "\n",
    "```sh\n",
    "$ ipython\n",
    "Python 3.6.0 (default, Dec 24 2016, 08:01:42) \n",
    "```\n",
    "\n",
    "IPython has some nice features for developing which we'll introduce to you over the next few weeks.\n",
    "\n",
    "** Let's Pause Here and Make Sure Everyone Has Their Virtual Environment and IPython Installation Set Up **"
   ]
  },
  {
   "cell_type": "code",
   "execution_count": 3,
   "metadata": {
    "collapsed": false,
    "deletable": true,
    "editable": true
   },
   "outputs": [
    {
     "ename": "IndentationError",
     "evalue": "unexpected indent (<ipython-input-3-c22d4c3465df>, line 4)",
     "output_type": "error",
     "traceback": [
      "\u001b[0;36m  File \u001b[0;32m\"<ipython-input-3-c22d4c3465df>\"\u001b[0;36m, line \u001b[0;32m4\u001b[0m\n\u001b[0;31m    print(\"Hello \" + me + \"!\")\u001b[0m\n\u001b[0m    ^\u001b[0m\n\u001b[0;31mIndentationError\u001b[0m\u001b[0;31m:\u001b[0m unexpected indent\n"
     ]
    }
   ],
   "source": [
    "# Try the following code in your IPython repl\n",
    "print(\"Hello World!\")\n",
    "me = \"Michael\"\n",
    "    print(\"Hello \" + me + \"!\")"
   ]
  },
  {
   "cell_type": "markdown",
   "metadata": {
    "deletable": true,
    "editable": true
   },
   "source": [
    "### Some Python Basics"
   ]
  },
  {
   "cell_type": "code",
   "execution_count": null,
   "metadata": {
    "collapsed": false,
    "deletable": true,
    "editable": true,
    "scrolled": false
   },
   "outputs": [],
   "source": [
    "# variable assignment\n",
    "x = 3\n",
    "y = \"banana\"\n",
    "print(x)\n",
    "print(type(x))\n",
    "print(y)\n",
    "print(type(y))"
   ]
  },
  {
   "cell_type": "code",
   "execution_count": null,
   "metadata": {
    "collapsed": false,
    "deletable": true,
    "editable": true
   },
   "outputs": [],
   "source": [
    "# Lists\n",
    "z = [1, \"a\", x**2]\n",
    "print(z)\n",
    "\n",
    "# Python is 0-indexed!\n",
    "print(z[0])\n",
    "print(z[2])\n",
    "\n"
   ]
  },
  {
   "cell_type": "code",
   "execution_count": null,
   "metadata": {
    "collapsed": true,
    "deletable": true,
    "editable": true
   },
   "outputs": [],
   "source": [
    "# What happens if we run this?\n",
    "# print(z[3])"
   ]
  },
  {
   "cell_type": "code",
   "execution_count": null,
   "metadata": {
    "collapsed": false,
    "deletable": true,
    "editable": true
   },
   "outputs": [],
   "source": [
    "# Dictionaries\n",
    "d = {'first_name': 'Michael', 'last_name': 'Kaminsky', 'something else': z}\n",
    "print(d)\n",
    "print(d['first_name'])\n",
    "print(d['last_name'])\n",
    "print(d['something else'])"
   ]
  },
  {
   "cell_type": "code",
   "execution_count": null,
   "metadata": {
    "collapsed": false,
    "deletable": true,
    "editable": true,
    "scrolled": true
   },
   "outputs": [],
   "source": [
    "print(d.keys())"
   ]
  },
  {
   "cell_type": "code",
   "execution_count": null,
   "metadata": {
    "collapsed": false,
    "deletable": true,
    "editable": true
   },
   "outputs": [],
   "source": [
    "# Loops\n",
    "for i in range(10):\n",
    "    print(i)"
   ]
  },
  {
   "cell_type": "code",
   "execution_count": null,
   "metadata": {
    "collapsed": false,
    "deletable": true,
    "editable": true
   },
   "outputs": [],
   "source": [
    "for item in z:\n",
    "    print(item)    "
   ]
  },
  {
   "cell_type": "markdown",
   "metadata": {
    "deletable": true,
    "editable": true
   },
   "source": [
    "#### Exercise\n",
    "1. Create a dictionary with the names of your family members where their first name is the key, the value is their age.\n",
    "2. Write a loop that loops through all entries in the dictionary and prints your family member's first names and ages"
   ]
  },
  {
   "cell_type": "code",
   "execution_count": null,
   "metadata": {
    "collapsed": false,
    "deletable": true,
    "editable": true
   },
   "outputs": [],
   "source": [
    "# Functions\n",
    "\n",
    "def my_func():\n",
    "    print(\"hello world!\") # Note: white space matters!\n",
    "    \n",
    "my_func()"
   ]
  },
  {
   "cell_type": "code",
   "execution_count": null,
   "metadata": {
    "collapsed": false,
    "deletable": true,
    "editable": true
   },
   "outputs": [],
   "source": [
    "def my_other_func(name):\n",
    "    print(\"Hello \" + name)\n",
    "    \n",
    "my_other_func(\"Michael\")"
   ]
  },
  {
   "cell_type": "code",
   "execution_count": null,
   "metadata": {
    "collapsed": false,
    "deletable": true,
    "editable": true
   },
   "outputs": [],
   "source": [
    "def welcome(name, age=None):\n",
    "    print(\"Hello \" + name)\n",
    "    if age:\n",
    "        print(\"I understand you're \" + str(age) + \" years old\")\n",
    "    \n",
    "welcome(\"Michael\", 29)\n",
    "\n",
    "# What happens if we run this?\n",
    "# welcome(\"Michael\")\n"
   ]
  },
  {
   "cell_type": "markdown",
   "metadata": {
    "deletable": true,
    "editable": true
   },
   "source": [
    "#### Exercise\n",
    "1. Create a function that will add entries into your family member dictionary. \n",
    "2. Add the following entries: Kermit age 99, Othello age 14, William age 40"
   ]
  },
  {
   "cell_type": "markdown",
   "metadata": {
    "deletable": true,
    "editable": true
   },
   "source": [
    "### Notebooks"
   ]
  },
  {
   "cell_type": "code",
   "execution_count": null,
   "metadata": {
    "collapsed": false,
    "deletable": true,
    "editable": true,
    "scrolled": true
   },
   "outputs": [],
   "source": [
    "!pip install pandas # Ipython magic!\n",
    "!pip install jupyter\n",
    "#exit()"
   ]
  },
  {
   "cell_type": "markdown",
   "metadata": {},
   "source": [
    "Start up our notebook server\n",
    "```sh\n",
    "$ jupyter\n",
    "```\n",
    "\n",
    "Open a browser (if one doesn't open for you). And navigate to http://localhost:8888/"
   ]
  },
  {
   "cell_type": "markdown",
   "metadata": {},
   "source": [
    "#### Notebook Basics\n",
    "\n",
    "Notebooks are a very convenient way for organizing and, most importantly, sharing data analyses. They allow for single-purpose explanatory scripts to be shared (complete with visualizations). They are often used in research settings or for prototyping. The ability to intersperse code with formatted, explanatory markdown is especially useful.\n",
    "\n",
    "Basic shortcuts and UI:\n",
    "* Edit a cell by hitting \"enter\"\n",
    "* Switch out of edit  mode by hitting \"esc\"\n",
    "* Run a cell with cmd+\"enter\"\n",
    "* Add a new cell above with \"a\" (when not in edit mode)\n",
    "* Add a new cell below with \"b\" (when not in edit mode)\n",
    "\n",
    "You can find more information [in the docs](http://jupyter-notebook.readthedocs.io/en/latest/examples/Notebook/Notebook%20Basics.html)"
   ]
  },
  {
   "cell_type": "markdown",
   "metadata": {
    "deletable": true,
    "editable": true
   },
   "source": [
    "# Load 311 data\n",
    "```bash\n",
    "$ cd ../\n",
    "$ git clone https://github.com/jvns/pandas-cookbook\n",
    "$ cd python-for-data-analysis\n",
    "```\n",
    "    "
   ]
  },
  {
   "cell_type": "code",
   "execution_count": 5,
   "metadata": {
    "collapsed": false,
    "deletable": true,
    "editable": true
   },
   "outputs": [],
   "source": [
    "import pandas as pd # use 'as' keyword to namespace a package\n",
    "complaints = pd.read_csv('../pandas-cookbook/data/311-service-requests.csv', low_memory=False)\n"
   ]
  },
  {
   "cell_type": "code",
   "execution_count": 22,
   "metadata": {
    "collapsed": false,
    "deletable": true,
    "editable": true
   },
   "outputs": [
    {
     "name": "stdout",
     "output_type": "stream",
     "text": [
      "                     Unique Key            Created Date  \\\n",
      "created                                                   \n",
      "2013-10-31 02:08:41    26589651  10/31/2013 02:08:41 AM   \n",
      "2013-10-31 02:01:04    26593698  10/31/2013 02:01:04 AM   \n",
      "2013-10-31 02:00:24    26594139  10/31/2013 02:00:24 AM   \n",
      "2013-10-31 01:56:23    26595721  10/31/2013 01:56:23 AM   \n",
      "2013-10-31 01:53:44    26590930  10/31/2013 01:53:44 AM   \n",
      "\n",
      "                                Closed Date Agency  \\\n",
      "created                                              \n",
      "2013-10-31 02:08:41                     NaN   NYPD   \n",
      "2013-10-31 02:01:04                     NaN   NYPD   \n",
      "2013-10-31 02:00:24  10/31/2013 02:40:32 AM   NYPD   \n",
      "2013-10-31 01:56:23  10/31/2013 02:21:48 AM   NYPD   \n",
      "2013-10-31 01:53:44                     NaN  DOHMH   \n",
      "\n",
      "                                                 Agency Name  \\\n",
      "created                                                        \n",
      "2013-10-31 02:08:41          New York City Police Department   \n",
      "2013-10-31 02:01:04          New York City Police Department   \n",
      "2013-10-31 02:00:24          New York City Police Department   \n",
      "2013-10-31 01:56:23          New York City Police Department   \n",
      "2013-10-31 01:53:44  Department of Health and Mental Hygiene   \n",
      "\n",
      "                              Complaint Type                    Descriptor  \\\n",
      "created                                                                      \n",
      "2013-10-31 02:08:41  Noise - Street/Sidewalk                  Loud Talking   \n",
      "2013-10-31 02:01:04          Illegal Parking  Commercial Overnight Parking   \n",
      "2013-10-31 02:00:24       Noise - Commercial              Loud Music/Party   \n",
      "2013-10-31 01:56:23          Noise - Vehicle                Car/Truck Horn   \n",
      "2013-10-31 01:53:44                   Rodent  Condition Attracting Rodents   \n",
      "\n",
      "                           Location Type Incident Zip  Incident Address  \\\n",
      "created                                                                   \n",
      "2013-10-31 02:08:41      Street/Sidewalk        11432  90-03 169 STREET   \n",
      "2013-10-31 02:01:04      Street/Sidewalk        11378         58 AVENUE   \n",
      "2013-10-31 02:00:24  Club/Bar/Restaurant        10032     4060 BROADWAY   \n",
      "2013-10-31 01:56:23      Street/Sidewalk        10023    WEST 72 STREET   \n",
      "2013-10-31 01:53:44           Vacant Lot        10027   WEST 124 STREET   \n",
      "\n",
      "                                       ...                     \\\n",
      "created                                ...                      \n",
      "2013-10-31 02:08:41                    ...                      \n",
      "2013-10-31 02:01:04                    ...                      \n",
      "2013-10-31 02:00:24                    ...                      \n",
      "2013-10-31 01:56:23                    ...                      \n",
      "2013-10-31 01:53:44                    ...                      \n",
      "\n",
      "                    Bridge Highway Name Bridge Highway Direction Road Ramp  \\\n",
      "created                                                                      \n",
      "2013-10-31 02:08:41                 NaN                      NaN       NaN   \n",
      "2013-10-31 02:01:04                 NaN                      NaN       NaN   \n",
      "2013-10-31 02:00:24                 NaN                      NaN       NaN   \n",
      "2013-10-31 01:56:23                 NaN                      NaN       NaN   \n",
      "2013-10-31 01:53:44                 NaN                      NaN       NaN   \n",
      "\n",
      "                    Bridge Highway Segment Garage Lot Name Ferry Direction  \\\n",
      "created                                                                      \n",
      "2013-10-31 02:08:41                    NaN             NaN             NaN   \n",
      "2013-10-31 02:01:04                    NaN             NaN             NaN   \n",
      "2013-10-31 02:00:24                    NaN             NaN             NaN   \n",
      "2013-10-31 01:56:23                    NaN             NaN             NaN   \n",
      "2013-10-31 01:53:44                    NaN             NaN             NaN   \n",
      "\n",
      "                    Ferry Terminal Name   Latitude  Longitude  \\\n",
      "created                                                         \n",
      "2013-10-31 02:08:41                 NaN  40.708275 -73.791604   \n",
      "2013-10-31 02:01:04                 NaN  40.721041 -73.909453   \n",
      "2013-10-31 02:00:24                 NaN  40.843330 -73.939144   \n",
      "2013-10-31 01:56:23                 NaN  40.778009 -73.980213   \n",
      "2013-10-31 01:53:44                 NaN  40.807691 -73.947387   \n",
      "\n",
      "                                                     Location  \n",
      "created                                                        \n",
      "2013-10-31 02:08:41   (40.70827532593202, -73.79160395779721)  \n",
      "2013-10-31 02:01:04  (40.721040535628305, -73.90945306791765)  \n",
      "2013-10-31 02:00:24   (40.84332975466513, -73.93914371913482)  \n",
      "2013-10-31 01:56:23    (40.7780087446372, -73.98021349023975)  \n",
      "2013-10-31 01:53:44   (40.80769092704951, -73.94738703491433)  \n",
      "\n",
      "[5 rows x 52 columns]\n"
     ]
    }
   ],
   "source": [
    "print(complaints.head())"
   ]
  },
  {
   "cell_type": "code",
   "execution_count": null,
   "metadata": {
    "collapsed": false
   },
   "outputs": [],
   "source": [
    "print(len(complaints))"
   ]
  },
  {
   "cell_type": "code",
   "execution_count": 23,
   "metadata": {
    "collapsed": false,
    "deletable": true,
    "editable": true
   },
   "outputs": [
    {
     "name": "stdout",
     "output_type": "stream",
     "text": [
      "Index(['Unique Key', 'Created Date', 'Closed Date', 'Agency', 'Agency Name',\n",
      "       'Complaint Type', 'Descriptor', 'Location Type', 'Incident Zip',\n",
      "       'Incident Address', 'Street Name', 'Cross Street 1', 'Cross Street 2',\n",
      "       'Intersection Street 1', 'Intersection Street 2', 'Address Type',\n",
      "       'City', 'Landmark', 'Facility Type', 'Status', 'Due Date',\n",
      "       'Resolution Action Updated Date', 'Community Board', 'Borough',\n",
      "       'X Coordinate (State Plane)', 'Y Coordinate (State Plane)',\n",
      "       'Park Facility Name', 'Park Borough', 'School Name', 'School Number',\n",
      "       'School Region', 'School Code', 'School Phone Number', 'School Address',\n",
      "       'School City', 'School State', 'School Zip', 'School Not Found',\n",
      "       'School or Citywide Complaint', 'Vehicle Type', 'Taxi Company Borough',\n",
      "       'Taxi Pick Up Location', 'Bridge Highway Name',\n",
      "       'Bridge Highway Direction', 'Road Ramp', 'Bridge Highway Segment',\n",
      "       'Garage Lot Name', 'Ferry Direction', 'Ferry Terminal Name', 'Latitude',\n",
      "       'Longitude', 'Location'],\n",
      "      dtype='object')\n"
     ]
    }
   ],
   "source": [
    "print(complaints.columns)"
   ]
  },
  {
   "cell_type": "code",
   "execution_count": null,
   "metadata": {
    "collapsed": false,
    "deletable": true,
    "editable": true
   },
   "outputs": [],
   "source": [
    "print(complaints['Created Date'])"
   ]
  },
  {
   "cell_type": "code",
   "execution_count": null,
   "metadata": {
    "collapsed": false,
    "deletable": true,
    "editable": true
   },
   "outputs": [],
   "source": [
    "print(complaints[0:3])"
   ]
  },
  {
   "cell_type": "code",
   "execution_count": null,
   "metadata": {
    "collapsed": false,
    "deletable": true,
    "editable": true
   },
   "outputs": [],
   "source": [
    "print(complaints['Location'].dtype)"
   ]
  },
  {
   "cell_type": "markdown",
   "metadata": {
    "deletable": true,
    "editable": true
   },
   "source": [
    "#### Exercise\n",
    "Write a loop that will loop through the columns of the data frame printing their names and types"
   ]
  },
  {
   "cell_type": "code",
   "execution_count": 6,
   "metadata": {
    "collapsed": false,
    "deletable": true,
    "editable": true
   },
   "outputs": [
    {
     "name": "stdout",
     "output_type": "stream",
     "text": [
      "Requirement already satisfied: matplotlib in /usr/local/lib/python2.7/site-packages\n",
      "Requirement already satisfied: pyparsing!=2.0.0,!=2.0.4,>=1.5.6 in /usr/local/lib/python2.7/site-packages (from matplotlib)\n",
      "Requirement already satisfied: python-dateutil in /usr/local/lib/python2.7/site-packages (from matplotlib)\n",
      "Requirement already satisfied: numpy>=1.6 in /usr/local/lib/python2.7/site-packages (from matplotlib)\n",
      "Requirement already satisfied: pytz in /usr/local/lib/python2.7/site-packages (from matplotlib)\n",
      "Requirement already satisfied: cycler in /usr/local/lib/python2.7/site-packages (from matplotlib)\n",
      "Requirement already satisfied: six>=1.5 in /usr/local/lib/python2.7/site-packages (from python-dateutil->matplotlib)\n"
     ]
    }
   ],
   "source": [
    "!pip install matplotlib\n",
    "import matplotlib\n",
    "%matplotlib inline"
   ]
  },
  {
   "cell_type": "code",
   "execution_count": 10,
   "metadata": {
    "collapsed": true,
    "deletable": true,
    "editable": true
   },
   "outputs": [],
   "source": [
    "complaints['created'] = pd.to_datetime(complaints['Created Date'])\n",
    "complaints.set_index('created', inplace=True)"
   ]
  },
  {
   "cell_type": "code",
   "execution_count": 19,
   "metadata": {
    "collapsed": false,
    "deletable": true,
    "editable": true
   },
   "outputs": [
    {
     "data": {
      "text/plain": [
       "<matplotlib.axes._subplots.AxesSubplot at 0x11768bc50>"
      ]
     },
     "execution_count": 19,
     "metadata": {},
     "output_type": "execute_result"
    },
    {
     "data": {
      "image/png": "[encoded data removed]",
      "text/plain": [
       "<matplotlib.figure.Figure at 0x1188c55c0>"
      ]
     },
     "metadata": {},
     "output_type": "display_data"
    }
   ],
   "source": [
    "complaints['Unique Key'].groupby([complaints.index.date]).count().plot(kind='line')\n",
    "\n",
    "\n",
    "\n",
    "\n",
    "#df.groupby([df.index.date, 'action']).count().plot(kind='bar')\n"
   ]
  },
  {
   "cell_type": "code",
   "execution_count": 20,
   "metadata": {
    "collapsed": false
   },
   "outputs": [
    {
     "data": {
      "text/plain": [
       "<matplotlib.axes._subplots.AxesSubplot at 0x11d4a0320>"
      ]
     },
     "execution_count": 20,
     "metadata": {},
     "output_type": "execute_result"
    },
    {
     "data": {
      "image/png": "[encoded data removed]",
      "text/plain": [
       "<matplotlib.figure.Figure at 0x1189736a0>"
      ]
     },
     "metadata": {},
     "output_type": "display_data"
    }
   ],
   "source": [
    "complaints['Unique Key'].groupby([complaints.index.date]).count().plot(kind='line', rot=90)"
   ]
  },
  {
   "cell_type": "code",
   "execution_count": 21,
   "metadata": {
    "collapsed": false
   },
   "outputs": [
    {
     "data": {
      "text/plain": [
       "<matplotlib.axes._subplots.AxesSubplot at 0x11d5d1b70>"
      ]
     },
     "execution_count": 21,
     "metadata": {},
     "output_type": "execute_result"
    },
    {
     "data": {
      "image/png": "[encoded data removed]",
      "text/plain": [
       "<matplotlib.figure.Figure at 0x11048b4e0>"
      ]
     },
     "metadata": {},
     "output_type": "display_data"
    }
   ],
   "source": [
    "# Plot by hour\n",
    "complaints['Unique Key'].groupby([complaints.index.hour]).count().plot(kind='line', rot=90)\n",
    "\n",
    "# What's going on with this?"
   ]
  },
  {
   "cell_type": "code",
   "execution_count": 29,
   "metadata": {
    "collapsed": false
   },
   "outputs": [
    {
     "data": {
      "text/plain": [
       "<matplotlib.axes._subplots.AxesSubplot at 0x11d0660b8>"
      ]
     },
     "execution_count": 29,
     "metadata": {},
     "output_type": "execute_result"
    },
    {
     "data": {
      "image/png": "[encoded data removed]",
      "text/plain": [
       "<matplotlib.figure.Figure at 0x1189f75c0>"
      ]
     },
     "metadata": {},
     "output_type": "display_data"
    }
   ],
   "source": [
    "complaints[['Unique Key', 'Borough']].groupby(['Borough']).count().plot(kind='Bar', rot=90)"
   ]
  },
  {
   "cell_type": "markdown",
   "metadata": {},
   "source": [
    "Exercise: \n",
    "* plot a line chart with complaints by day by borough (time on the x axis, one line per borough)"
   ]
  }
 ],
 "metadata": {
  "kernelspec": {
   "display_name": "Python 3",
   "language": "python",
   "name": "python3"
  },
  "language_info": {
   "codemirror_mode": {
    "name": "ipython",
    "version": 3
   },
   "file_extension": ".py",
   "mimetype": "text/x-python",
   "name": "python",
   "nbconvert_exporter": "python",
   "pygments_lexer": "ipython3",
   "version": "3.6.0"
  }
 },
 "nbformat": 4,
 "nbformat_minor": 2
}
