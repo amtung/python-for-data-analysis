{
 "cells": [
  {
   "cell_type": "markdown",
   "metadata": {},
   "source": [
    "# Python For Data Analysis\n",
    "## Class 1\n",
    "\n",
    "The objectives of this class are for y'all to have:\n",
    "\n",
    "1. Installed python3 and created a virtualenvironment to work in\n",
    "2. Gained some familiarity with python's package manager, `pip`\n",
    "3. Learned to use the `ipython` interactive shell\n",
    "4. Learned some of the basics of python functionality and style"
   ]
  },
  {
   "cell_type": "markdown",
   "metadata": {},
   "source": [
    "### Install python and virtualenv\n",
    "\n",
    "Install Homebrew\n",
    "\n",
    "```sh\n",
    "$ /usr/bin/ruby -e \"$(curl -fsSL https://raw.githubusercontent.com/Homebrew/install/master/install)\"\n",
    "```\n",
    "\n",
    "Update homebrew\n",
    "```sh\n",
    "$ brew update\n",
    "$ brew doctor\n",
    "```\n",
    "\n",
    "\n",
    "Install Python3\n",
    "```sh\n",
    "$ brew install python3\n",
    "```\n",
    "\n",
    "Install virtualenv and virtualenv wrapper\n",
    "\n",
    "```sh\n",
    "$ pip3 install virtualenv\n",
    "$ pip3 install virtualenvwrapper\n",
    "$ export VIRTUALENVWRAPPER_PYTHON=/usr/local/bin/python3\n",
    "$ source /usr/local/bin/virtualenvwrapper.sh\n",
    "```\n",
    "\n",
    "Make sure virtualenvwrapper will start correctly for next time you open a new shell\n",
    "\n",
    "```sh\n",
    "$ echo \"export VIRTUALENVWRAPPER_PYTHON=/usr/local/bin/python3\" >> ~/.bash_profile\n",
    "$ echo \"source /usr/local/bin/virtualenvwrapper.sh\" >> ~/.bash_profile\n",
    "```"
   ]
  },
  {
   "cell_type": "markdown",
   "metadata": {},
   "source": [
    "### virtual environments in python\n",
    "\n",
    "`pip` is python's package manager. `pip3` is used for installing packages for `python3`. If we get our virtual environments set up correctly, you won't have to remember when to use `pip3`, `pip` should just work. However, it's good to know that there's some magic happening in the background.\n",
    "\n",
    "Virtual environments allow you to easily keep track of which external libraries (and versions!) are required for a project. This may seem like a pain in the beginning, but will end up saving you a lot of confusing down the line.\n",
    "\n",
    "Let's create a virtual environment for ourselves to work in\n",
    "\n",
    "```sh\n",
    "$ cd ~/workspace\n",
    "$ mkdir python-for-data-analysis\n",
    "$ cd python-for-data-analysis\n",
    "$ mkvirtualenv python-for-data-analysis\n",
    "$ setvirtualenvproject\n",
    "```\n",
    "\n",
    "To deactivate a virtualenvironment, we simply use the `deactivate` command\n",
    "\n",
    "```sh\n",
    "$ deactivate\n",
    "```\n",
    "\n",
    "With our project set up this way, we can easily jump to the directory our project is in when we want to get started\n",
    "\n",
    "```\n",
    "$ cd ~\n",
    "$ workon python-for-data-analysis\n",
    "$ pwd\n",
    "```"
   ]
  },
  {
   "cell_type": "markdown",
   "metadata": {},
   "source": [
    "### IPython\n",
    "\n",
    "We'll use the IPython interactive shell for developing.\n",
    "\n",
    "\n",
    "Once we've activated our virtual environment, we need to install IPython.\n",
    "```sh\n",
    "$ pip install ipython\n",
    "```\n",
    "\n",
    "Once we start ipython, we should see that we're working using python3:\n",
    "\n",
    "```sh\n",
    "$ ipython\n",
    "Python 3.6.0 (default, Dec 24 2016, 08:01:42) \n",
    "```\n",
    "\n",
    "IPython has some nice features for developing which we'll introduce to you over the next few weeks.\n",
    "\n",
    "** Let's Pause Here and Make Sure Everyone Has Their Virtual Environment and IPython Installation Set Up **"
   ]
  },
  {
   "cell_type": "code",
   "execution_count": 12,
   "metadata": {},
   "outputs": [
    {
     "name": "stdout",
     "output_type": "stream",
     "text": [
      "Hello World!\n",
      "Hello Michael!\n"
     ]
    }
   ],
   "source": [
    "# Try the following code in your IPython repl\n",
    "print(\"Hello World!\")\n",
    "me = \"Michael\"\n",
    "    print(\"Hello \" + me + \"!\")"
   ]
  },
  {
   "cell_type": "markdown",
   "metadata": {},
   "source": [
    "### Some Python Basics"
   ]
  },
  {
   "cell_type": "code",
   "execution_count": 15,
   "metadata": {
    "scrolled": false
   },
   "outputs": [
    {
     "name": "stdout",
     "output_type": "stream",
     "text": [
      "3\n",
      "<class 'int'>\n",
      "banana\n",
      "<class 'str'>\n"
     ]
    }
   ],
   "source": [
    "# variable assignment\n",
    "x = 3\n",
    "y = \"banana\"\n",
    "print(x)\n",
    "print(type(x))\n",
    "print(y)\n",
    "print(type(y))"
   ]
  },
  {
   "cell_type": "code",
   "execution_count": 19,
   "metadata": {},
   "outputs": [
    {
     "name": "stdout",
     "output_type": "stream",
     "text": [
      "[1, 'a', 9]\n",
      "1\n",
      "9\n"
     ]
    }
   ],
   "source": [
    "# Lists\n",
    "z = [1, \"a\", x**2]\n",
    "print(z)\n",
    "\n",
    "# Python is 0-indexed!\n",
    "print(z[0])\n",
    "print(z[2])\n",
    "\n"
   ]
  },
  {
   "cell_type": "code",
   "execution_count": null,
   "metadata": {
    "collapsed": true
   },
   "outputs": [],
   "source": [
    "# What happens if we run this?\n",
    "# print(z[3])"
   ]
  },
  {
   "cell_type": "code",
   "execution_count": 23,
   "metadata": {},
   "outputs": [
    {
     "name": "stdout",
     "output_type": "stream",
     "text": [
      "{'first_name': 'Michael', 'last_name': 'Kaminsky', 'something else': [1, 'a', 9]}\n",
      "Michael\n",
      "Kaminsky\n",
      "[1, 'a', 9]\n"
     ]
    }
   ],
   "source": [
    "# Dictionaries\n",
    "d = {'first_name': 'Michael', 'last_name': 'Kaminsky', 'something else': z}\n",
    "print(d)\n",
    "print(d['first_name'])\n",
    "print(d['last_name'])\n",
    "print(d['something else'])"
   ]
  },
  {
   "cell_type": "code",
   "execution_count": 27,
   "metadata": {
    "scrolled": true
   },
   "outputs": [
    {
     "name": "stdout",
     "output_type": "stream",
     "text": [
      "dict_keys(['first_name', 'last_name', 'something else'])\n"
     ]
    }
   ],
   "source": [
    "print(d.keys())"
   ]
  },
  {
   "cell_type": "code",
   "execution_count": 34,
   "metadata": {},
   "outputs": [
    {
     "name": "stdout",
     "output_type": "stream",
     "text": [
      "0\n",
      "1\n",
      "2\n",
      "3\n",
      "4\n",
      "5\n",
      "6\n",
      "7\n",
      "8\n",
      "9\n"
     ]
    }
   ],
   "source": [
    "# Loops\n",
    "for i in range(10):\n",
    "    print(i)"
   ]
  },
  {
   "cell_type": "code",
   "execution_count": 35,
   "metadata": {},
   "outputs": [
    {
     "name": "stdout",
     "output_type": "stream",
     "text": [
      "1\n",
      "a\n",
      "9\n"
     ]
    }
   ],
   "source": [
    "for item in z:\n",
    "    print(item)    "
   ]
  },
  {
   "cell_type": "markdown",
   "metadata": {},
   "source": [
    "#### Exercise\n",
    "1. Create a dictionary with the names of your family members where their first name is the key, the value is their age.\n",
    "2. Write a loop that loops through all entries in the dictionary and prints your family member's first names and ages"
   ]
  },
  {
   "cell_type": "code",
   "execution_count": 36,
   "metadata": {},
   "outputs": [
    {
     "name": "stdout",
     "output_type": "stream",
     "text": [
      "hello world!\n"
     ]
    }
   ],
   "source": [
    "# Functions\n",
    "\n",
    "def my_func():\n",
    "    print(\"hello world!\") # Note: white space matters!\n",
    "    \n",
    "my_func()"
   ]
  },
  {
   "cell_type": "code",
   "execution_count": 38,
   "metadata": {},
   "outputs": [
    {
     "name": "stdout",
     "output_type": "stream",
     "text": [
      "Hello Michael\n"
     ]
    }
   ],
   "source": [
    "def my_other_func(name):\n",
    "    print(\"Hello \" + name)\n",
    "    \n",
    "my_other_func(\"Michael\")"
   ]
  },
  {
   "cell_type": "code",
   "execution_count": 41,
   "metadata": {},
   "outputs": [
    {
     "name": "stdout",
     "output_type": "stream",
     "text": [
      "Hello Michael\n",
      "I understand you're 29 years old\n"
     ]
    }
   ],
   "source": [
    "def welcome(name, age=None):\n",
    "    print(\"Hello \" + name)\n",
    "    if age:\n",
    "        print(\"I understand you're \" + str(age) + \" years old\")\n",
    "    \n",
    "welcome(\"Michael\", 29)\n",
    "\n",
    "# What happens if we run this?\n",
    "# welcome(\"Michael\")\n"
   ]
  },
  {
   "cell_type": "markdown",
   "metadata": {},
   "source": [
    "#### Exercise\n",
    "1. Create a function that will add entries into your family member dictionary. \n",
    "2. Add the following entries: Kermit age 99, Othello age 14, William age 40"
   ]
  },
  {
   "cell_type": "markdown",
   "metadata": {},
   "source": [
    "### Pandas"
   ]
  },
  {
   "cell_type": "code",
   "execution_count": 1,
   "metadata": {
    "scrolled": true
   },
   "outputs": [
    {
     "name": "stdout",
     "output_type": "stream",
     "text": [
      "Requirement already satisfied: pandas in /Users/michael/.virtualenvs/python-for-data-analysis/lib/python3.5/site-packages\n",
      "Requirement already satisfied: python-dateutil>=2 in /Users/michael/.virtualenvs/python-for-data-analysis/lib/python3.5/site-packages (from pandas)\n",
      "Requirement already satisfied: pytz>=2011k in /Users/michael/.virtualenvs/python-for-data-analysis/lib/python3.5/site-packages (from pandas)\n",
      "Requirement already satisfied: numpy>=1.7.0 in /Users/michael/.virtualenvs/python-for-data-analysis/lib/python3.5/site-packages (from pandas)\n",
      "Requirement already satisfied: six>=1.5 in /Users/michael/.virtualenvs/python-for-data-analysis/lib/python3.5/site-packages (from python-dateutil>=2->pandas)\n",
      "Requirement already satisfied: jupyter in /Users/michael/.virtualenvs/python-for-data-analysis/lib/python3.5/site-packages\n",
      "Requirement already satisfied: qtconsole in /Users/michael/.virtualenvs/python-for-data-analysis/lib/python3.5/site-packages (from jupyter)\n",
      "Requirement already satisfied: notebook in /Users/michael/.virtualenvs/python-for-data-analysis/lib/python3.5/site-packages (from jupyter)\n",
      "Requirement already satisfied: ipywidgets in /Users/michael/.virtualenvs/python-for-data-analysis/lib/python3.5/site-packages (from jupyter)\n",
      "Requirement already satisfied: ipykernel in /Users/michael/.virtualenvs/python-for-data-analysis/lib/python3.5/site-packages (from jupyter)\n",
      "Requirement already satisfied: jupyter-console in /Users/michael/.virtualenvs/python-for-data-analysis/lib/python3.5/site-packages (from jupyter)\n",
      "Requirement already satisfied: nbconvert in /Users/michael/.virtualenvs/python-for-data-analysis/lib/python3.5/site-packages (from jupyter)\n",
      "Requirement already satisfied: pygments in /Users/michael/.virtualenvs/python-for-data-analysis/lib/python3.5/site-packages (from qtconsole->jupyter)\n",
      "Requirement already satisfied: jupyter-client>=4.1 in /Users/michael/.virtualenvs/python-for-data-analysis/lib/python3.5/site-packages (from qtconsole->jupyter)\n",
      "Requirement already satisfied: traitlets in /Users/michael/.virtualenvs/python-for-data-analysis/lib/python3.5/site-packages (from qtconsole->jupyter)\n",
      "Requirement already satisfied: ipython-genutils in /Users/michael/.virtualenvs/python-for-data-analysis/lib/python3.5/site-packages (from qtconsole->jupyter)\n",
      "Requirement already satisfied: jupyter-core in /Users/michael/.virtualenvs/python-for-data-analysis/lib/python3.5/site-packages (from qtconsole->jupyter)\n",
      "Requirement already satisfied: nbformat in /Users/michael/.virtualenvs/python-for-data-analysis/lib/python3.5/site-packages (from notebook->jupyter)\n",
      "Requirement already satisfied: terminado>=0.3.3; sys_platform != \"win32\" in /Users/michael/.virtualenvs/python-for-data-analysis/lib/python3.5/site-packages (from notebook->jupyter)\n",
      "Requirement already satisfied: tornado>=4 in /Users/michael/.virtualenvs/python-for-data-analysis/lib/python3.5/site-packages (from notebook->jupyter)\n",
      "Requirement already satisfied: jinja2 in /Users/michael/.virtualenvs/python-for-data-analysis/lib/python3.5/site-packages (from notebook->jupyter)\n",
      "Requirement already satisfied: widgetsnbextension~=2.0.0 in /Users/michael/.virtualenvs/python-for-data-analysis/lib/python3.5/site-packages (from ipywidgets->jupyter)\n",
      "Requirement already satisfied: ipython>=4.0.0 in /Users/michael/.virtualenvs/python-for-data-analysis/lib/python3.5/site-packages (from ipywidgets->jupyter)\n",
      "Requirement already satisfied: prompt-toolkit<2.0.0,>=1.0.0 in /Users/michael/.virtualenvs/python-for-data-analysis/lib/python3.5/site-packages (from jupyter-console->jupyter)\n",
      "Requirement already satisfied: mistune!=0.6 in /Users/michael/.virtualenvs/python-for-data-analysis/lib/python3.5/site-packages (from nbconvert->jupyter)\n",
      "Requirement already satisfied: testpath in /Users/michael/.virtualenvs/python-for-data-analysis/lib/python3.5/site-packages (from nbconvert->jupyter)\n",
      "Requirement already satisfied: pandocfilters>=1.4.1 in /Users/michael/.virtualenvs/python-for-data-analysis/lib/python3.5/site-packages (from nbconvert->jupyter)\n",
      "Requirement already satisfied: bleach in /Users/michael/.virtualenvs/python-for-data-analysis/lib/python3.5/site-packages (from nbconvert->jupyter)\n",
      "Requirement already satisfied: entrypoints>=0.2.2 in /Users/michael/.virtualenvs/python-for-data-analysis/lib/python3.5/site-packages (from nbconvert->jupyter)\n",
      "Requirement already satisfied: pyzmq>=13 in /Users/michael/.virtualenvs/python-for-data-analysis/lib/python3.5/site-packages (from jupyter-client>=4.1->qtconsole->jupyter)\n",
      "Requirement already satisfied: python-dateutil>=2.1 in /Users/michael/.virtualenvs/python-for-data-analysis/lib/python3.5/site-packages (from jupyter-client>=4.1->qtconsole->jupyter)\n",
      "Requirement already satisfied: decorator in /Users/michael/.virtualenvs/python-for-data-analysis/lib/python3.5/site-packages (from traitlets->qtconsole->jupyter)\n",
      "Requirement already satisfied: six in /Users/michael/.virtualenvs/python-for-data-analysis/lib/python3.5/site-packages (from traitlets->qtconsole->jupyter)\n",
      "Requirement already satisfied: jsonschema!=2.5.0,>=2.4 in /Users/michael/.virtualenvs/python-for-data-analysis/lib/python3.5/site-packages (from nbformat->notebook->jupyter)\n",
      "Requirement already satisfied: ptyprocess in /Users/michael/.virtualenvs/python-for-data-analysis/lib/python3.5/site-packages (from terminado>=0.3.3; sys_platform != \"win32\"->notebook->jupyter)\n",
      "Requirement already satisfied: MarkupSafe>=0.23 in /Users/michael/.virtualenvs/python-for-data-analysis/lib/python3.5/site-packages (from jinja2->notebook->jupyter)\n",
      "Requirement already satisfied: jedi>=0.10 in /Users/michael/.virtualenvs/python-for-data-analysis/lib/python3.5/site-packages (from ipython>=4.0.0->ipywidgets->jupyter)\n",
      "Requirement already satisfied: pickleshare in /Users/michael/.virtualenvs/python-for-data-analysis/lib/python3.5/site-packages (from ipython>=4.0.0->ipywidgets->jupyter)\n",
      "Requirement already satisfied: appnope; sys_platform == \"darwin\" in /Users/michael/.virtualenvs/python-for-data-analysis/lib/python3.5/site-packages (from ipython>=4.0.0->ipywidgets->jupyter)\n",
      "Requirement already satisfied: setuptools>=18.5 in /Users/michael/.virtualenvs/python-for-data-analysis/lib/python3.5/site-packages (from ipython>=4.0.0->ipywidgets->jupyter)\n",
      "Requirement already satisfied: pexpect; sys_platform != \"win32\" in /Users/michael/.virtualenvs/python-for-data-analysis/lib/python3.5/site-packages (from ipython>=4.0.0->ipywidgets->jupyter)\n",
      "Requirement already satisfied: simplegeneric>0.8 in /Users/michael/.virtualenvs/python-for-data-analysis/lib/python3.5/site-packages (from ipython>=4.0.0->ipywidgets->jupyter)\n",
      "Requirement already satisfied: wcwidth in /Users/michael/.virtualenvs/python-for-data-analysis/lib/python3.5/site-packages (from prompt-toolkit<2.0.0,>=1.0.0->jupyter-console->jupyter)\n",
      "Requirement already satisfied: html5lib>=0.99999999 in /Users/michael/.virtualenvs/python-for-data-analysis/lib/python3.5/site-packages (from bleach->nbconvert->jupyter)\n",
      "Requirement already satisfied: appdirs>=1.4.0 in /Users/michael/.virtualenvs/python-for-data-analysis/lib/python3.5/site-packages (from setuptools>=18.5->ipython>=4.0.0->ipywidgets->jupyter)\n",
      "Requirement already satisfied: packaging>=16.8 in /Users/michael/.virtualenvs/python-for-data-analysis/lib/python3.5/site-packages (from setuptools>=18.5->ipython>=4.0.0->ipywidgets->jupyter)\n",
      "Requirement already satisfied: webencodings in /Users/michael/.virtualenvs/python-for-data-analysis/lib/python3.5/site-packages (from html5lib>=0.99999999->bleach->nbconvert->jupyter)\n",
      "Requirement already satisfied: pyparsing in /Users/michael/.virtualenvs/python-for-data-analysis/lib/python3.5/site-packages (from packaging>=16.8->setuptools>=18.5->ipython>=4.0.0->ipywidgets->jupyter)\n"
     ]
    }
   ],
   "source": [
    "!pip install pandas # Ipython magic!\n",
    "!pip install jupyter\n",
    "import pandas as pd # \"import\" is how we load a package in python\n",
    "#exit()"
   ]
  },
  {
   "cell_type": "markdown",
   "metadata": {},
   "source": [
    "# Load 311 data\n",
    "```bash\n",
    "$ cd ../\n",
    "$ git clone https://github.com/jvns/pandas-cookbook\n",
    "```\n",
    "    "
   ]
  },
  {
   "cell_type": "code",
   "execution_count": 3,
   "metadata": {},
   "outputs": [],
   "source": [
    "complaints = pd.read_csv('../pandas-cookbook/data/311-service-requests.csv', low_memory=False)\n"
   ]
  },
  {
   "cell_type": "code",
   "execution_count": 4,
   "metadata": {},
   "outputs": [
    {
     "name": "stdout",
     "output_type": "stream",
     "text": [
      "   Unique Key            Created Date             Closed Date Agency  \\\n",
      "0    26589651  10/31/2013 02:08:41 AM                     NaN   NYPD   \n",
      "1    26593698  10/31/2013 02:01:04 AM                     NaN   NYPD   \n",
      "2    26594139  10/31/2013 02:00:24 AM  10/31/2013 02:40:32 AM   NYPD   \n",
      "3    26595721  10/31/2013 01:56:23 AM  10/31/2013 02:21:48 AM   NYPD   \n",
      "4    26590930  10/31/2013 01:53:44 AM                     NaN  DOHMH   \n",
      "\n",
      "                               Agency Name           Complaint Type  \\\n",
      "0          New York City Police Department  Noise - Street/Sidewalk   \n",
      "1          New York City Police Department          Illegal Parking   \n",
      "2          New York City Police Department       Noise - Commercial   \n",
      "3          New York City Police Department          Noise - Vehicle   \n",
      "4  Department of Health and Mental Hygiene                   Rodent   \n",
      "\n",
      "                     Descriptor        Location Type Incident Zip  \\\n",
      "0                  Loud Talking      Street/Sidewalk        11432   \n",
      "1  Commercial Overnight Parking      Street/Sidewalk        11378   \n",
      "2              Loud Music/Party  Club/Bar/Restaurant        10032   \n",
      "3                Car/Truck Horn      Street/Sidewalk        10023   \n",
      "4  Condition Attracting Rodents           Vacant Lot        10027   \n",
      "\n",
      "   Incident Address                    ...                     \\\n",
      "0  90-03 169 STREET                    ...                      \n",
      "1         58 AVENUE                    ...                      \n",
      "2     4060 BROADWAY                    ...                      \n",
      "3    WEST 72 STREET                    ...                      \n",
      "4   WEST 124 STREET                    ...                      \n",
      "\n",
      "  Bridge Highway Name Bridge Highway Direction Road Ramp  \\\n",
      "0                 NaN                      NaN       NaN   \n",
      "1                 NaN                      NaN       NaN   \n",
      "2                 NaN                      NaN       NaN   \n",
      "3                 NaN                      NaN       NaN   \n",
      "4                 NaN                      NaN       NaN   \n",
      "\n",
      "  Bridge Highway Segment Garage Lot Name Ferry Direction Ferry Terminal Name  \\\n",
      "0                    NaN             NaN             NaN                 NaN   \n",
      "1                    NaN             NaN             NaN                 NaN   \n",
      "2                    NaN             NaN             NaN                 NaN   \n",
      "3                    NaN             NaN             NaN                 NaN   \n",
      "4                    NaN             NaN             NaN                 NaN   \n",
      "\n",
      "    Latitude  Longitude                                  Location  \n",
      "0  40.708275 -73.791604   (40.70827532593202, -73.79160395779721)  \n",
      "1  40.721041 -73.909453  (40.721040535628305, -73.90945306791765)  \n",
      "2  40.843330 -73.939144   (40.84332975466513, -73.93914371913482)  \n",
      "3  40.778009 -73.980213    (40.7780087446372, -73.98021349023975)  \n",
      "4  40.807691 -73.947387   (40.80769092704951, -73.94738703491433)  \n",
      "\n",
      "[5 rows x 52 columns]\n"
     ]
    }
   ],
   "source": [
    "print(complaints.head())"
   ]
  },
  {
   "cell_type": "code",
   "execution_count": 5,
   "metadata": {},
   "outputs": [
    {
     "name": "stdout",
     "output_type": "stream",
     "text": [
      "Index(['Unique Key', 'Created Date', 'Closed Date', 'Agency', 'Agency Name',\n",
      "       'Complaint Type', 'Descriptor', 'Location Type', 'Incident Zip',\n",
      "       'Incident Address', 'Street Name', 'Cross Street 1', 'Cross Street 2',\n",
      "       'Intersection Street 1', 'Intersection Street 2', 'Address Type',\n",
      "       'City', 'Landmark', 'Facility Type', 'Status', 'Due Date',\n",
      "       'Resolution Action Updated Date', 'Community Board', 'Borough',\n",
      "       'X Coordinate (State Plane)', 'Y Coordinate (State Plane)',\n",
      "       'Park Facility Name', 'Park Borough', 'School Name', 'School Number',\n",
      "       'School Region', 'School Code', 'School Phone Number', 'School Address',\n",
      "       'School City', 'School State', 'School Zip', 'School Not Found',\n",
      "       'School or Citywide Complaint', 'Vehicle Type', 'Taxi Company Borough',\n",
      "       'Taxi Pick Up Location', 'Bridge Highway Name',\n",
      "       'Bridge Highway Direction', 'Road Ramp', 'Bridge Highway Segment',\n",
      "       'Garage Lot Name', 'Ferry Direction', 'Ferry Terminal Name', 'Latitude',\n",
      "       'Longitude', 'Location'],\n",
      "      dtype='object')\n"
     ]
    }
   ],
   "source": [
    "print(complaints.columns)"
   ]
  },
  {
   "cell_type": "code",
   "execution_count": 6,
   "metadata": {},
   "outputs": [
    {
     "name": "stdout",
     "output_type": "stream",
     "text": [
      "0         10/31/2013 02:08:41 AM\n",
      "1         10/31/2013 02:01:04 AM\n",
      "2         10/31/2013 02:00:24 AM\n",
      "3         10/31/2013 01:56:23 AM\n",
      "4         10/31/2013 01:53:44 AM\n",
      "5         10/31/2013 01:46:52 AM\n",
      "6         10/31/2013 01:46:40 AM\n",
      "7         10/31/2013 01:44:19 AM\n",
      "8         10/31/2013 01:44:14 AM\n",
      "9         10/31/2013 01:34:41 AM\n",
      "10        10/31/2013 01:25:12 AM\n",
      "11        10/31/2013 01:24:14 AM\n",
      "12        10/31/2013 01:20:57 AM\n",
      "13        10/31/2013 01:20:13 AM\n",
      "14        10/31/2013 01:19:54 AM\n",
      "15        10/31/2013 01:14:02 AM\n",
      "16        10/31/2013 12:54:03 AM\n",
      "17        10/31/2013 12:52:46 AM\n",
      "18        10/31/2013 12:51:00 AM\n",
      "19        10/31/2013 12:46:27 AM\n",
      "20        10/31/2013 12:43:47 AM\n",
      "21        10/31/2013 12:41:17 AM\n",
      "22        10/31/2013 12:39:55 AM\n",
      "23        10/31/2013 12:38:00 AM\n",
      "24        10/31/2013 12:37:16 AM\n",
      "25        10/31/2013 12:35:18 AM\n",
      "26        10/31/2013 12:33:00 AM\n",
      "27        10/31/2013 12:32:44 AM\n",
      "28        10/31/2013 12:32:08 AM\n",
      "29        10/31/2013 12:32:00 AM\n",
      "                   ...          \n",
      "111039    10/04/2013 12:17:03 AM\n",
      "111040    10/04/2013 12:16:22 AM\n",
      "111041    10/04/2013 12:16:00 AM\n",
      "111042    10/04/2013 12:15:52 AM\n",
      "111043    10/04/2013 12:15:46 AM\n",
      "111044    10/04/2013 12:14:09 AM\n",
      "111045    10/04/2013 12:14:00 AM\n",
      "111046    10/04/2013 12:14:00 AM\n",
      "111047    10/04/2013 12:13:08 AM\n",
      "111048    10/04/2013 12:12:07 AM\n",
      "111049    10/04/2013 12:12:07 AM\n",
      "111050    10/04/2013 12:11:00 AM\n",
      "111051    10/04/2013 12:08:15 AM\n",
      "111052    10/04/2013 12:08:00 AM\n",
      "111053    10/04/2013 12:08:00 AM\n",
      "111054    10/04/2013 12:06:39 AM\n",
      "111055    10/04/2013 12:06:28 AM\n",
      "111056    10/04/2013 12:06:26 AM\n",
      "111057    10/04/2013 12:06:00 AM\n",
      "111058    10/04/2013 12:05:12 AM\n",
      "111059    10/04/2013 12:04:52 AM\n",
      "111060    10/04/2013 12:04:00 AM\n",
      "111061    10/04/2013 12:03:00 AM\n",
      "111062    10/04/2013 12:03:00 AM\n",
      "111063    10/04/2013 12:02:00 AM\n",
      "111064    10/04/2013 12:01:13 AM\n",
      "111065    10/04/2013 12:01:05 AM\n",
      "111066    10/04/2013 12:00:45 AM\n",
      "111067    10/04/2013 12:00:28 AM\n",
      "111068    10/04/2013 12:00:10 AM\n",
      "Name: Created Date, dtype: object\n"
     ]
    }
   ],
   "source": [
    "print(complaints['Created Date'])"
   ]
  },
  {
   "cell_type": "code",
   "execution_count": 8,
   "metadata": {
    "scrolled": true
   },
   "outputs": [
    {
     "name": "stdout",
     "output_type": "stream",
     "text": [
      "0          (40.70827532593202, -73.79160395779721)\n",
      "1         (40.721040535628305, -73.90945306791765)\n",
      "2          (40.84332975466513, -73.93914371913482)\n",
      "3           (40.7780087446372, -73.98021349023975)\n",
      "4          (40.80769092704951, -73.94738703491433)\n",
      "5           (40.7499893014072, -73.88198770727831)\n",
      "6          (40.68153278675525, -73.83173699701601)\n",
      "7          (40.67181584567338, -73.84309181950769)\n",
      "8          (40.73991339303542, -74.00079028612932)\n",
      "9          (40.66820406598287, -73.95064760056546)\n",
      "10         (40.63437840816299, -73.96946177104543)\n",
      "11         (40.73081644089586, -73.98607265739876)\n",
      "12         (40.78897400211689, -73.95225898702977)\n",
      "13         (40.89151738488846, -73.83645714593568)\n",
      "14          (40.6264774690411, -73.99921826202639)\n",
      "15          (40.7965967075252, -73.97036973473399)\n",
      "16          (40.63618202176914, -74.1161500428337)\n",
      "17         (40.63243692394328, -73.88817263437012)\n",
      "18                                             NaN\n",
      "19         (40.85205827756883, -73.93477640780834)\n",
      "20         (40.67350473678714, -73.95184414979961)\n",
      "21         (40.74619417253121, -73.97876853124392)\n",
      "22          (40.69239424979043, -73.8338912453996)\n",
      "23          (40.6849442562592, -73.94422078036632)\n",
      "24         (40.60724493456944, -74.06110566015863)\n",
      "25         (40.55342078716953, -74.19674315017886)\n",
      "26                                             NaN\n",
      "27         (40.80314938553783, -73.96426608076082)\n",
      "28         (40.80238950799943, -73.95052644123253)\n",
      "29        (40.517377871705676, -74.20343466779575)\n",
      "                            ...                   \n",
      "111039    (40.757247604963055, -73.96828647941395)\n",
      "111040     (40.79363516179995, -73.94164859515777)\n",
      "111041      (40.6742492231181, -74.01655803856313)\n",
      "111042    (40.736303747410034, -74.00829935904578)\n",
      "111043     (40.64013899178716, -73.96684680242933)\n",
      "111044     (40.836532082987944, -73.9410182995914)\n",
      "111045     (40.75597977288785, -73.96917140638074)\n",
      "111046      (40.6742492231181, -74.01655803856313)\n",
      "111047    (40.656160351546845, -73.76735262738222)\n",
      "111048     (40.81333907832113, -73.94632769228208)\n",
      "111049    (40.619601147364584, -74.02782628492785)\n",
      "111050     (40.77461174278734, -73.94808472177321)\n",
      "111051     (40.72953107218499, -73.98041550317102)\n",
      "111052     (40.75706852462872, -73.96593314322774)\n",
      "111053      (40.6643525308449, -73.75755575708348)\n",
      "111054     (40.57751513866536, -74.01220705163807)\n",
      "111055     (40.62838143294541, -74.02904041333245)\n",
      "111056     (40.73225000573841, -73.92451289173367)\n",
      "111057     (40.76011648520396, -73.98483562074706)\n",
      "111058    (40.703365329011284, -73.92634531031759)\n",
      "111059    (40.727251287038676, -73.98866028603422)\n",
      "111060     (40.76040500039782, -73.98747426235285)\n",
      "111061    (40.762278541098084, -73.92601303458156)\n",
      "111062     (40.75706852462872, -73.96593314322774)\n",
      "111063     (40.75466197318078, -73.96799173864807)\n",
      "111064                                         NaN\n",
      "111065    (40.656160351546845, -73.76735262738222)\n",
      "111066    (40.740295354643706, -73.97695165980414)\n",
      "111067     (40.64018174662485, -73.95530566958138)\n",
      "111068    (40.640024057399216, -73.90071711703163)\n",
      "Name: Location, dtype: object\n"
     ]
    }
   ],
   "source": [
    "print(complaints.Location)"
   ]
  },
  {
   "cell_type": "code",
   "execution_count": 9,
   "metadata": {},
   "outputs": [
    {
     "name": "stdout",
     "output_type": "stream",
     "text": [
      "   Unique Key            Created Date             Closed Date Agency  \\\n",
      "0    26589651  10/31/2013 02:08:41 AM                     NaN   NYPD   \n",
      "1    26593698  10/31/2013 02:01:04 AM                     NaN   NYPD   \n",
      "2    26594139  10/31/2013 02:00:24 AM  10/31/2013 02:40:32 AM   NYPD   \n",
      "\n",
      "                       Agency Name           Complaint Type  \\\n",
      "0  New York City Police Department  Noise - Street/Sidewalk   \n",
      "1  New York City Police Department          Illegal Parking   \n",
      "2  New York City Police Department       Noise - Commercial   \n",
      "\n",
      "                     Descriptor        Location Type Incident Zip  \\\n",
      "0                  Loud Talking      Street/Sidewalk        11432   \n",
      "1  Commercial Overnight Parking      Street/Sidewalk        11378   \n",
      "2              Loud Music/Party  Club/Bar/Restaurant        10032   \n",
      "\n",
      "   Incident Address                    ...                     \\\n",
      "0  90-03 169 STREET                    ...                      \n",
      "1         58 AVENUE                    ...                      \n",
      "2     4060 BROADWAY                    ...                      \n",
      "\n",
      "  Bridge Highway Name Bridge Highway Direction Road Ramp  \\\n",
      "0                 NaN                      NaN       NaN   \n",
      "1                 NaN                      NaN       NaN   \n",
      "2                 NaN                      NaN       NaN   \n",
      "\n",
      "  Bridge Highway Segment Garage Lot Name Ferry Direction Ferry Terminal Name  \\\n",
      "0                    NaN             NaN             NaN                 NaN   \n",
      "1                    NaN             NaN             NaN                 NaN   \n",
      "2                    NaN             NaN             NaN                 NaN   \n",
      "\n",
      "    Latitude  Longitude                                  Location  \n",
      "0  40.708275 -73.791604   (40.70827532593202, -73.79160395779721)  \n",
      "1  40.721041 -73.909453  (40.721040535628305, -73.90945306791765)  \n",
      "2  40.843330 -73.939144   (40.84332975466513, -73.93914371913482)  \n",
      "\n",
      "[3 rows x 52 columns]\n"
     ]
    }
   ],
   "source": [
    "print(complaints[0:3])"
   ]
  },
  {
   "cell_type": "code",
   "execution_count": 11,
   "metadata": {},
   "outputs": [
    {
     "name": "stdout",
     "output_type": "stream",
     "text": [
      "   Unique Key            Created Date Closed Date Agency  \\\n",
      "0    26589651  10/31/2013 02:08:41 AM         NaN   NYPD   \n",
      "\n",
      "                       Agency Name           Complaint Type    Descriptor  \\\n",
      "0  New York City Police Department  Noise - Street/Sidewalk  Loud Talking   \n",
      "\n",
      "     Location Type Incident Zip  Incident Address  \\\n",
      "0  Street/Sidewalk        11432  90-03 169 STREET   \n",
      "\n",
      "                    ...                    Bridge Highway Name  \\\n",
      "0                   ...                                    NaN   \n",
      "\n",
      "  Bridge Highway Direction Road Ramp Bridge Highway Segment Garage Lot Name  \\\n",
      "0                      NaN       NaN                    NaN             NaN   \n",
      "\n",
      "  Ferry Direction Ferry Terminal Name   Latitude  Longitude  \\\n",
      "0             NaN                 NaN  40.708275 -73.791604   \n",
      "\n",
      "                                  Location  \n",
      "0  (40.70827532593202, -73.79160395779721)  \n",
      "\n",
      "[1 rows x 52 columns]\n"
     ]
    }
   ],
   "source": [
    "print(complaints[0:1])"
   ]
  },
  {
   "cell_type": "code",
   "execution_count": 12,
   "metadata": {},
   "outputs": [
    {
     "name": "stdout",
     "output_type": "stream",
     "text": [
      "object\n"
     ]
    }
   ],
   "source": [
    "print(complaints['Location'].dtype)"
   ]
  },
  {
   "cell_type": "markdown",
   "metadata": {},
   "source": [
    "#### Exercise\n",
    "Write a loop that will loop through the columns of the data frame printing their names and types"
   ]
  },
  {
   "cell_type": "code",
   "execution_count": 13,
   "metadata": {},
   "outputs": [
    {
     "name": "stdout",
     "output_type": "stream",
     "text": [
      "111069\n"
     ]
    }
   ],
   "source": [
    "print(len(complaints))"
   ]
  },
  {
   "cell_type": "code",
   "execution_count": 19,
   "metadata": {},
   "outputs": [
    {
     "name": "stdout",
     "output_type": "stream",
     "text": [
      "Requirement already satisfied: matplotlib in /Users/michael/.virtualenvs/python-for-data-analysis/lib/python3.5/site-packages\r\n",
      "Requirement already satisfied: pyparsing!=2.0.0,!=2.0.4,!=2.1.2,!=2.1.6,>=1.5.6 in /Users/michael/.virtualenvs/python-for-data-analysis/lib/python3.5/site-packages (from matplotlib)\r\n",
      "Requirement already satisfied: python-dateutil in /Users/michael/.virtualenvs/python-for-data-analysis/lib/python3.5/site-packages (from matplotlib)\r\n",
      "Requirement already satisfied: numpy>=1.7.1 in /Users/michael/.virtualenvs/python-for-data-analysis/lib/python3.5/site-packages (from matplotlib)\r\n",
      "Requirement already satisfied: pytz in /Users/michael/.virtualenvs/python-for-data-analysis/lib/python3.5/site-packages (from matplotlib)\r\n",
      "Requirement already satisfied: cycler>=0.10 in /Users/michael/.virtualenvs/python-for-data-analysis/lib/python3.5/site-packages (from matplotlib)\r\n",
      "Requirement already satisfied: six>=1.10 in /Users/michael/.virtualenvs/python-for-data-analysis/lib/python3.5/site-packages (from matplotlib)\r\n"
     ]
    }
   ],
   "source": [
    "!pip install matplotlib\n",
    "import matplotlib\n",
    "%matplotlib inline"
   ]
  },
  {
   "cell_type": "code",
   "execution_count": 24,
   "metadata": {},
   "outputs": [],
   "source": [
    "complaints['created'] = pd.to_datetime(complaints['Created Date'])"
   ]
  },
  {
   "cell_type": "code",
   "execution_count": null,
   "metadata": {},
   "outputs": [],
   "source": []
  }
 ],
 "metadata": {
  "kernelspec": {
   "display_name": "Python 3",
   "language": "python",
   "name": "python3"
  },
  "language_info": {
   "codemirror_mode": {
    "name": "ipython",
    "version": 3
   },
   "file_extension": ".py",
   "mimetype": "text/x-python",
   "name": "python",
   "nbconvert_exporter": "python",
   "pygments_lexer": "ipython3",
   "version": "3.5.2"
  }
 },
 "nbformat": 4,
 "nbformat_minor": 2
}
